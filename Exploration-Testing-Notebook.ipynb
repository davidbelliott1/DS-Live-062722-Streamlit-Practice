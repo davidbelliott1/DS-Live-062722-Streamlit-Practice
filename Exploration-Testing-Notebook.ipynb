{
 "cells": [
  {
   "cell_type": "markdown",
   "metadata": {},
   "source": [
    "# Predicting Animal Adoptions\n",
    "\n",
    "### Project Goal:\n",
    "\n",
    "Using a few simple inputs (related to animal type, age of animal, color, etc), build an online tool that will predict whether an animal will be adopted or not from the Austin Animal Center."
   ]
  },
  {
   "cell_type": "code",
   "execution_count": 1,
   "metadata": {
    "ExecuteTime": {
     "end_time": "2022-09-20T20:21:43.684806Z",
     "start_time": "2022-09-20T20:21:42.096923Z"
    }
   },
   "outputs": [],
   "source": [
    "import numpy as np\n",
    "import pandas as pd\n",
    "pd.set_option('display.max_columns', 25)\n",
    "import matplotlib.pyplot as plt\n",
    "\n",
    "from sklearn.model_selection import train_test_split\n",
    "from sklearn.linear_model import LogisticRegression\n",
    "from sklearn.tree import DecisionTreeClassifier\n",
    "from sklearn.ensemble import RandomForestClassifier\n",
    "from sklearn.metrics import f1_score, roc_auc_score, plot_confusion_matrix, ConfusionMatrixDisplay"
   ]
  },
  {
   "cell_type": "markdown",
   "metadata": {},
   "source": [
    "## Data Exploration and Merging\n",
    "\n",
    "Data Sources:\n",
    "- [Austin Animal Center Intakes Data](https://data.austintexas.gov/Health-and-Community-Services/Austin-Animal-Center-Intakes/wter-evkm)\n",
    "- [Austin Animal Center Outcomes Data](https://data.austintexas.gov/Health-and-Community-Services/Austin-Animal-Center-Outcomes/9t4d-g238)"
   ]
  },
  {
   "cell_type": "code",
   "execution_count": 2,
   "metadata": {
    "ExecuteTime": {
     "end_time": "2022-09-20T20:21:55.898874Z",
     "start_time": "2022-09-20T20:21:43.686807Z"
    }
   },
   "outputs": [
    {
     "data": {
      "text/html": [
       "<div>\n",
       "<style scoped>\n",
       "    .dataframe tbody tr th:only-of-type {\n",
       "        vertical-align: middle;\n",
       "    }\n",
       "\n",
       "    .dataframe tbody tr th {\n",
       "        vertical-align: top;\n",
       "    }\n",
       "\n",
       "    .dataframe thead th {\n",
       "        text-align: right;\n",
       "    }\n",
       "</style>\n",
       "<table border=\"1\" class=\"dataframe\">\n",
       "  <thead>\n",
       "    <tr style=\"text-align: right;\">\n",
       "      <th></th>\n",
       "      <th>Animal ID</th>\n",
       "      <th>Name</th>\n",
       "      <th>DateTime</th>\n",
       "      <th>MonthYear</th>\n",
       "      <th>Found Location</th>\n",
       "      <th>Intake Type</th>\n",
       "      <th>Intake Condition</th>\n",
       "      <th>Animal Type</th>\n",
       "      <th>Sex upon Intake</th>\n",
       "      <th>Age upon Intake</th>\n",
       "      <th>Breed</th>\n",
       "      <th>Color</th>\n",
       "    </tr>\n",
       "  </thead>\n",
       "  <tbody>\n",
       "    <tr>\n",
       "      <th>0</th>\n",
       "      <td>A665644</td>\n",
       "      <td>NaN</td>\n",
       "      <td>2013-10-21 07:59:00</td>\n",
       "      <td>October 2013</td>\n",
       "      <td>Austin (TX)</td>\n",
       "      <td>Stray</td>\n",
       "      <td>Sick</td>\n",
       "      <td>Cat</td>\n",
       "      <td>Intact Female</td>\n",
       "      <td>4 weeks</td>\n",
       "      <td>Domestic Shorthair Mix</td>\n",
       "      <td>Calico</td>\n",
       "    </tr>\n",
       "    <tr>\n",
       "      <th>1</th>\n",
       "      <td>A664262</td>\n",
       "      <td>NaN</td>\n",
       "      <td>2013-10-01 11:45:00</td>\n",
       "      <td>October 2013</td>\n",
       "      <td>4915 Yager Ln in Austin (TX)</td>\n",
       "      <td>Stray</td>\n",
       "      <td>Normal</td>\n",
       "      <td>Cat</td>\n",
       "      <td>Intact Male</td>\n",
       "      <td>1 weeks</td>\n",
       "      <td>Domestic Shorthair Mix</td>\n",
       "      <td>Orange Tabby</td>\n",
       "    </tr>\n",
       "    <tr>\n",
       "      <th>2</th>\n",
       "      <td>A664887</td>\n",
       "      <td>*Gia</td>\n",
       "      <td>2013-10-10 13:48:00</td>\n",
       "      <td>October 2013</td>\n",
       "      <td>1901 Onion Creek Pkwy in Austin (TX)</td>\n",
       "      <td>Stray</td>\n",
       "      <td>Normal</td>\n",
       "      <td>Cat</td>\n",
       "      <td>Intact Female</td>\n",
       "      <td>1 month</td>\n",
       "      <td>Domestic Shorthair Mix</td>\n",
       "      <td>Black</td>\n",
       "    </tr>\n",
       "    <tr>\n",
       "      <th>3</th>\n",
       "      <td>A665800</td>\n",
       "      <td>*Precious</td>\n",
       "      <td>2013-10-23 11:08:00</td>\n",
       "      <td>October 2013</td>\n",
       "      <td>Austin (TX)</td>\n",
       "      <td>Owner Surrender</td>\n",
       "      <td>Normal</td>\n",
       "      <td>Cat</td>\n",
       "      <td>Intact Female</td>\n",
       "      <td>3 months</td>\n",
       "      <td>Domestic Shorthair Mix</td>\n",
       "      <td>Tortie</td>\n",
       "    </tr>\n",
       "    <tr>\n",
       "      <th>4</th>\n",
       "      <td>A665763</td>\n",
       "      <td>NaN</td>\n",
       "      <td>2013-10-22 15:10:00</td>\n",
       "      <td>October 2013</td>\n",
       "      <td>E Riverside Dr/Royal Crest Dr in Austin (TX)</td>\n",
       "      <td>Stray</td>\n",
       "      <td>Normal</td>\n",
       "      <td>Dog</td>\n",
       "      <td>Intact Male</td>\n",
       "      <td>4 months</td>\n",
       "      <td>Cairn Terrier Mix</td>\n",
       "      <td>Tan/White</td>\n",
       "    </tr>\n",
       "  </tbody>\n",
       "</table>\n",
       "</div>"
      ],
      "text/plain": [
       "  Animal ID       Name            DateTime     MonthYear  \\\n",
       "0   A665644        NaN 2013-10-21 07:59:00  October 2013   \n",
       "1   A664262        NaN 2013-10-01 11:45:00  October 2013   \n",
       "2   A664887       *Gia 2013-10-10 13:48:00  October 2013   \n",
       "3   A665800  *Precious 2013-10-23 11:08:00  October 2013   \n",
       "4   A665763        NaN 2013-10-22 15:10:00  October 2013   \n",
       "\n",
       "                                 Found Location      Intake Type  \\\n",
       "0                                   Austin (TX)            Stray   \n",
       "1                  4915 Yager Ln in Austin (TX)            Stray   \n",
       "2          1901 Onion Creek Pkwy in Austin (TX)            Stray   \n",
       "3                                   Austin (TX)  Owner Surrender   \n",
       "4  E Riverside Dr/Royal Crest Dr in Austin (TX)            Stray   \n",
       "\n",
       "  Intake Condition Animal Type Sex upon Intake Age upon Intake  \\\n",
       "0             Sick         Cat   Intact Female         4 weeks   \n",
       "1           Normal         Cat     Intact Male         1 weeks   \n",
       "2           Normal         Cat   Intact Female         1 month   \n",
       "3           Normal         Cat   Intact Female        3 months   \n",
       "4           Normal         Dog     Intact Male        4 months   \n",
       "\n",
       "                    Breed         Color  \n",
       "0  Domestic Shorthair Mix        Calico  \n",
       "1  Domestic Shorthair Mix  Orange Tabby  \n",
       "2  Domestic Shorthair Mix         Black  \n",
       "3  Domestic Shorthair Mix        Tortie  \n",
       "4       Cairn Terrier Mix     Tan/White  "
      ]
     },
     "execution_count": 2,
     "metadata": {},
     "output_type": "execute_result"
    }
   ],
   "source": [
    "# Read in intakes data, downloaded 9/19/22\n",
    "df_in = pd.read_csv('data/Austin_Animal_Center_Intakes-091922.csv',\n",
    "                    parse_dates=['DateTime'])\n",
    "df_in.head()"
   ]
  },
  {
   "cell_type": "code",
   "execution_count": 3,
   "metadata": {
    "ExecuteTime": {
     "end_time": "2022-09-20T20:22:08.159379Z",
     "start_time": "2022-09-20T20:21:55.900344Z"
    },
    "scrolled": true
   },
   "outputs": [
    {
     "data": {
      "text/html": [
       "<div>\n",
       "<style scoped>\n",
       "    .dataframe tbody tr th:only-of-type {\n",
       "        vertical-align: middle;\n",
       "    }\n",
       "\n",
       "    .dataframe tbody tr th {\n",
       "        vertical-align: top;\n",
       "    }\n",
       "\n",
       "    .dataframe thead th {\n",
       "        text-align: right;\n",
       "    }\n",
       "</style>\n",
       "<table border=\"1\" class=\"dataframe\">\n",
       "  <thead>\n",
       "    <tr style=\"text-align: right;\">\n",
       "      <th></th>\n",
       "      <th>Animal ID</th>\n",
       "      <th>Name</th>\n",
       "      <th>DateTime</th>\n",
       "      <th>MonthYear</th>\n",
       "      <th>Date of Birth</th>\n",
       "      <th>Outcome Type</th>\n",
       "      <th>Outcome Subtype</th>\n",
       "      <th>Animal Type</th>\n",
       "      <th>Sex upon Outcome</th>\n",
       "      <th>Age upon Outcome</th>\n",
       "      <th>Breed</th>\n",
       "      <th>Color</th>\n",
       "    </tr>\n",
       "  </thead>\n",
       "  <tbody>\n",
       "    <tr>\n",
       "      <th>0</th>\n",
       "      <td>A794011</td>\n",
       "      <td>Chunk</td>\n",
       "      <td>2019-05-08 18:20:00</td>\n",
       "      <td>May 2019</td>\n",
       "      <td>05/02/2017</td>\n",
       "      <td>Rto-Adopt</td>\n",
       "      <td>NaN</td>\n",
       "      <td>Cat</td>\n",
       "      <td>Neutered Male</td>\n",
       "      <td>2 years</td>\n",
       "      <td>Domestic Shorthair Mix</td>\n",
       "      <td>Brown Tabby/White</td>\n",
       "    </tr>\n",
       "    <tr>\n",
       "      <th>1</th>\n",
       "      <td>A776359</td>\n",
       "      <td>Gizmo</td>\n",
       "      <td>2018-07-18 16:02:00</td>\n",
       "      <td>Jul 2018</td>\n",
       "      <td>07/12/2017</td>\n",
       "      <td>Adoption</td>\n",
       "      <td>NaN</td>\n",
       "      <td>Dog</td>\n",
       "      <td>Neutered Male</td>\n",
       "      <td>1 year</td>\n",
       "      <td>Chihuahua Shorthair Mix</td>\n",
       "      <td>White/Brown</td>\n",
       "    </tr>\n",
       "    <tr>\n",
       "      <th>2</th>\n",
       "      <td>A821648</td>\n",
       "      <td>NaN</td>\n",
       "      <td>2020-08-16 11:38:00</td>\n",
       "      <td>Aug 2020</td>\n",
       "      <td>08/16/2019</td>\n",
       "      <td>Euthanasia</td>\n",
       "      <td>NaN</td>\n",
       "      <td>Other</td>\n",
       "      <td>Unknown</td>\n",
       "      <td>1 year</td>\n",
       "      <td>Raccoon</td>\n",
       "      <td>Gray</td>\n",
       "    </tr>\n",
       "    <tr>\n",
       "      <th>3</th>\n",
       "      <td>A720371</td>\n",
       "      <td>Moose</td>\n",
       "      <td>2016-02-13 17:59:00</td>\n",
       "      <td>Feb 2016</td>\n",
       "      <td>10/08/2015</td>\n",
       "      <td>Adoption</td>\n",
       "      <td>NaN</td>\n",
       "      <td>Dog</td>\n",
       "      <td>Neutered Male</td>\n",
       "      <td>4 months</td>\n",
       "      <td>Anatol Shepherd/Labrador Retriever</td>\n",
       "      <td>Buff</td>\n",
       "    </tr>\n",
       "    <tr>\n",
       "      <th>4</th>\n",
       "      <td>A674754</td>\n",
       "      <td>NaN</td>\n",
       "      <td>2014-03-18 11:47:00</td>\n",
       "      <td>Mar 2014</td>\n",
       "      <td>03/12/2014</td>\n",
       "      <td>Transfer</td>\n",
       "      <td>Partner</td>\n",
       "      <td>Cat</td>\n",
       "      <td>Intact Male</td>\n",
       "      <td>6 days</td>\n",
       "      <td>Domestic Shorthair Mix</td>\n",
       "      <td>Orange Tabby</td>\n",
       "    </tr>\n",
       "  </tbody>\n",
       "</table>\n",
       "</div>"
      ],
      "text/plain": [
       "  Animal ID   Name            DateTime MonthYear Date of Birth Outcome Type  \\\n",
       "0   A794011  Chunk 2019-05-08 18:20:00  May 2019    05/02/2017    Rto-Adopt   \n",
       "1   A776359  Gizmo 2018-07-18 16:02:00  Jul 2018    07/12/2017     Adoption   \n",
       "2   A821648    NaN 2020-08-16 11:38:00  Aug 2020    08/16/2019   Euthanasia   \n",
       "3   A720371  Moose 2016-02-13 17:59:00  Feb 2016    10/08/2015     Adoption   \n",
       "4   A674754    NaN 2014-03-18 11:47:00  Mar 2014    03/12/2014     Transfer   \n",
       "\n",
       "  Outcome Subtype Animal Type Sex upon Outcome Age upon Outcome  \\\n",
       "0             NaN         Cat    Neutered Male          2 years   \n",
       "1             NaN         Dog    Neutered Male           1 year   \n",
       "2             NaN       Other          Unknown           1 year   \n",
       "3             NaN         Dog    Neutered Male         4 months   \n",
       "4         Partner         Cat      Intact Male           6 days   \n",
       "\n",
       "                                Breed              Color  \n",
       "0              Domestic Shorthair Mix  Brown Tabby/White  \n",
       "1             Chihuahua Shorthair Mix        White/Brown  \n",
       "2                             Raccoon               Gray  \n",
       "3  Anatol Shepherd/Labrador Retriever               Buff  \n",
       "4              Domestic Shorthair Mix       Orange Tabby  "
      ]
     },
     "execution_count": 3,
     "metadata": {},
     "output_type": "execute_result"
    }
   ],
   "source": [
    "# Read in outcomes data, downloaded 9/19/22\n",
    "df_out = pd.read_csv('data/Austin_Animal_Center_Outcomes-091922.csv', \n",
    "                     parse_dates=['DateTime'])\n",
    "df_out.head()"
   ]
  },
  {
   "cell_type": "code",
   "execution_count": 4,
   "metadata": {
    "ExecuteTime": {
     "end_time": "2022-09-20T20:22:08.236874Z",
     "start_time": "2022-09-20T20:22:08.161846Z"
    },
    "scrolled": false
   },
   "outputs": [
    {
     "name": "stdout",
     "output_type": "stream",
     "text": [
      "Intake dupes: 27\n",
      "Outcome dupes: 19\n"
     ]
    }
   ],
   "source": [
    "# There are some duplicate rows with the exact same Animal ID and DateTime\n",
    "# Assuming input issues (ie accidentally entering the animal into the system twice)\n",
    "print(f\"Intake dupes: {df_in.duplicated(subset=['Animal ID', 'DateTime']).sum()}\")\n",
    "print(f\"Outcome dupes: {df_out.duplicated(['Animal ID', 'DateTime']).sum()}\")"
   ]
  },
  {
   "cell_type": "code",
   "execution_count": 5,
   "metadata": {
    "ExecuteTime": {
     "end_time": "2022-09-20T20:22:08.329873Z",
     "start_time": "2022-09-20T20:22:08.238346Z"
    }
   },
   "outputs": [],
   "source": [
    "# Dropping these dupes, keeping the last entry\n",
    "df_in = df_in.drop_duplicates(subset=['Animal ID', 'DateTime'], keep='last')\n",
    "df_out = df_out.drop_duplicates(subset=['Animal ID', 'DateTime'], keep='last')"
   ]
  },
  {
   "cell_type": "markdown",
   "metadata": {},
   "source": [
    "### Data Cleaning: Merging Repeat Intakes/Outcomes"
   ]
  },
  {
   "cell_type": "code",
   "execution_count": 6,
   "metadata": {
    "ExecuteTime": {
     "end_time": "2022-09-20T20:22:08.422843Z",
     "start_time": "2022-09-20T20:22:08.330844Z"
    }
   },
   "outputs": [],
   "source": [
    "# First - order both dfs by DateTime\n",
    "df_in = df_in.sort_values(by='DateTime')\n",
    "df_out = df_out.sort_values(by='DateTime')"
   ]
  },
  {
   "cell_type": "code",
   "execution_count": 7,
   "metadata": {
    "ExecuteTime": {
     "end_time": "2022-09-20T20:22:08.577877Z",
     "start_time": "2022-09-20T20:22:08.424346Z"
    }
   },
   "outputs": [],
   "source": [
    "# Create iterative counts for animals that have multiple intakes/outcomes\n",
    "df_in['Intake Num'] = df_in.groupby('Animal ID', sort=False).cumcount()+1\n",
    "df_out['Outcome Num'] = df_out.groupby('Animal ID', sort=False).cumcount()+1"
   ]
  },
  {
   "cell_type": "code",
   "execution_count": 8,
   "metadata": {
    "ExecuteTime": {
     "end_time": "2022-09-20T20:22:08.608845Z",
     "start_time": "2022-09-20T20:22:08.578881Z"
    },
    "scrolled": false
   },
   "outputs": [
    {
     "data": {
      "text/html": [
       "<div>\n",
       "<style scoped>\n",
       "    .dataframe tbody tr th:only-of-type {\n",
       "        vertical-align: middle;\n",
       "    }\n",
       "\n",
       "    .dataframe tbody tr th {\n",
       "        vertical-align: top;\n",
       "    }\n",
       "\n",
       "    .dataframe thead th {\n",
       "        text-align: right;\n",
       "    }\n",
       "</style>\n",
       "<table border=\"1\" class=\"dataframe\">\n",
       "  <thead>\n",
       "    <tr style=\"text-align: right;\">\n",
       "      <th></th>\n",
       "      <th>Animal ID</th>\n",
       "      <th>Name</th>\n",
       "      <th>DateTime</th>\n",
       "      <th>MonthYear</th>\n",
       "      <th>Found Location</th>\n",
       "      <th>Intake Type</th>\n",
       "      <th>Intake Condition</th>\n",
       "      <th>Animal Type</th>\n",
       "      <th>Sex upon Intake</th>\n",
       "      <th>Age upon Intake</th>\n",
       "      <th>Breed</th>\n",
       "      <th>Color</th>\n",
       "      <th>Intake Num</th>\n",
       "    </tr>\n",
       "  </thead>\n",
       "  <tbody>\n",
       "    <tr>\n",
       "      <th>58270</th>\n",
       "      <td>A721033</td>\n",
       "      <td>Lil Bit</td>\n",
       "      <td>2019-04-26 10:28:00</td>\n",
       "      <td>April 2019</td>\n",
       "      <td>South 1St And Stassney in Austin (TX)</td>\n",
       "      <td>Public Assist</td>\n",
       "      <td>Normal</td>\n",
       "      <td>Dog</td>\n",
       "      <td>Neutered Male</td>\n",
       "      <td>3 years</td>\n",
       "      <td>Rat Terrier Mix</td>\n",
       "      <td>Tricolor/Brown Brindle</td>\n",
       "      <td>29</td>\n",
       "    </tr>\n",
       "    <tr>\n",
       "      <th>15175</th>\n",
       "      <td>A721033</td>\n",
       "      <td>Lil Bit</td>\n",
       "      <td>2019-05-20 10:18:00</td>\n",
       "      <td>May 2019</td>\n",
       "      <td>1819 South Pleasant Valley Road in Austin (TX)</td>\n",
       "      <td>Public Assist</td>\n",
       "      <td>Normal</td>\n",
       "      <td>Dog</td>\n",
       "      <td>Neutered Male</td>\n",
       "      <td>4 years</td>\n",
       "      <td>Rat Terrier Mix</td>\n",
       "      <td>Tricolor/Brown Brindle</td>\n",
       "      <td>30</td>\n",
       "    </tr>\n",
       "    <tr>\n",
       "      <th>40853</th>\n",
       "      <td>A721033</td>\n",
       "      <td>Lil Bit</td>\n",
       "      <td>2019-08-05 10:52:00</td>\n",
       "      <td>August 2019</td>\n",
       "      <td>Burton And Oltorf in Austin (TX)</td>\n",
       "      <td>Public Assist</td>\n",
       "      <td>Normal</td>\n",
       "      <td>Dog</td>\n",
       "      <td>Neutered Male</td>\n",
       "      <td>4 years</td>\n",
       "      <td>Rat Terrier Mix</td>\n",
       "      <td>Tricolor/Brown Brindle</td>\n",
       "      <td>31</td>\n",
       "    </tr>\n",
       "    <tr>\n",
       "      <th>109528</th>\n",
       "      <td>A721033</td>\n",
       "      <td>Lil Bit</td>\n",
       "      <td>2019-09-16 14:06:00</td>\n",
       "      <td>September 2019</td>\n",
       "      <td>Justin Lane And North Lamar in Austin (TX)</td>\n",
       "      <td>Public Assist</td>\n",
       "      <td>Normal</td>\n",
       "      <td>Dog</td>\n",
       "      <td>Neutered Male</td>\n",
       "      <td>4 years</td>\n",
       "      <td>Rat Terrier Mix</td>\n",
       "      <td>Tricolor/Brown Brindle</td>\n",
       "      <td>32</td>\n",
       "    </tr>\n",
       "    <tr>\n",
       "      <th>31427</th>\n",
       "      <td>A721033</td>\n",
       "      <td>Lil Bit</td>\n",
       "      <td>2019-10-05 12:31:00</td>\n",
       "      <td>October 2019</td>\n",
       "      <td>1135 Airport Boulevard in Austin (TX)</td>\n",
       "      <td>Public Assist</td>\n",
       "      <td>Normal</td>\n",
       "      <td>Dog</td>\n",
       "      <td>Neutered Male</td>\n",
       "      <td>4 years</td>\n",
       "      <td>Rat Terrier Mix</td>\n",
       "      <td>Tricolor/Brown Brindle</td>\n",
       "      <td>33</td>\n",
       "    </tr>\n",
       "  </tbody>\n",
       "</table>\n",
       "</div>"
      ],
      "text/plain": [
       "       Animal ID     Name            DateTime       MonthYear  \\\n",
       "58270    A721033  Lil Bit 2019-04-26 10:28:00      April 2019   \n",
       "15175    A721033  Lil Bit 2019-05-20 10:18:00        May 2019   \n",
       "40853    A721033  Lil Bit 2019-08-05 10:52:00     August 2019   \n",
       "109528   A721033  Lil Bit 2019-09-16 14:06:00  September 2019   \n",
       "31427    A721033  Lil Bit 2019-10-05 12:31:00    October 2019   \n",
       "\n",
       "                                        Found Location    Intake Type  \\\n",
       "58270            South 1St And Stassney in Austin (TX)  Public Assist   \n",
       "15175   1819 South Pleasant Valley Road in Austin (TX)  Public Assist   \n",
       "40853                 Burton And Oltorf in Austin (TX)  Public Assist   \n",
       "109528      Justin Lane And North Lamar in Austin (TX)  Public Assist   \n",
       "31427            1135 Airport Boulevard in Austin (TX)  Public Assist   \n",
       "\n",
       "       Intake Condition Animal Type Sex upon Intake Age upon Intake  \\\n",
       "58270            Normal         Dog   Neutered Male         3 years   \n",
       "15175            Normal         Dog   Neutered Male         4 years   \n",
       "40853            Normal         Dog   Neutered Male         4 years   \n",
       "109528           Normal         Dog   Neutered Male         4 years   \n",
       "31427            Normal         Dog   Neutered Male         4 years   \n",
       "\n",
       "                  Breed                   Color  Intake Num  \n",
       "58270   Rat Terrier Mix  Tricolor/Brown Brindle          29  \n",
       "15175   Rat Terrier Mix  Tricolor/Brown Brindle          30  \n",
       "40853   Rat Terrier Mix  Tricolor/Brown Brindle          31  \n",
       "109528  Rat Terrier Mix  Tricolor/Brown Brindle          32  \n",
       "31427   Rat Terrier Mix  Tricolor/Brown Brindle          33  "
      ]
     },
     "execution_count": 8,
     "metadata": {},
     "output_type": "execute_result"
    }
   ],
   "source": [
    "# Checking a known repeat offender - multiple intakes ...\n",
    "df_in.loc[df_in['Animal ID'] == 'A721033'].tail(5)"
   ]
  },
  {
   "cell_type": "code",
   "execution_count": 9,
   "metadata": {
    "ExecuteTime": {
     "end_time": "2022-09-20T20:22:08.639868Z",
     "start_time": "2022-09-20T20:22:08.610374Z"
    },
    "scrolled": false
   },
   "outputs": [
    {
     "data": {
      "text/html": [
       "<div>\n",
       "<style scoped>\n",
       "    .dataframe tbody tr th:only-of-type {\n",
       "        vertical-align: middle;\n",
       "    }\n",
       "\n",
       "    .dataframe tbody tr th {\n",
       "        vertical-align: top;\n",
       "    }\n",
       "\n",
       "    .dataframe thead th {\n",
       "        text-align: right;\n",
       "    }\n",
       "</style>\n",
       "<table border=\"1\" class=\"dataframe\">\n",
       "  <thead>\n",
       "    <tr style=\"text-align: right;\">\n",
       "      <th></th>\n",
       "      <th>Animal ID</th>\n",
       "      <th>Name</th>\n",
       "      <th>DateTime</th>\n",
       "      <th>MonthYear</th>\n",
       "      <th>Date of Birth</th>\n",
       "      <th>Outcome Type</th>\n",
       "      <th>Outcome Subtype</th>\n",
       "      <th>Animal Type</th>\n",
       "      <th>Sex upon Outcome</th>\n",
       "      <th>Age upon Outcome</th>\n",
       "      <th>Breed</th>\n",
       "      <th>Color</th>\n",
       "      <th>Outcome Num</th>\n",
       "    </tr>\n",
       "  </thead>\n",
       "  <tbody>\n",
       "    <tr>\n",
       "      <th>31114</th>\n",
       "      <td>A721033</td>\n",
       "      <td>Lil Bit</td>\n",
       "      <td>2019-05-04 08:37:00</td>\n",
       "      <td>May 2019</td>\n",
       "      <td>05/20/2015</td>\n",
       "      <td>Return to Owner</td>\n",
       "      <td>NaN</td>\n",
       "      <td>Dog</td>\n",
       "      <td>Neutered Male</td>\n",
       "      <td>3 years</td>\n",
       "      <td>Rat Terrier Mix</td>\n",
       "      <td>Tricolor/Brown Brindle</td>\n",
       "      <td>29</td>\n",
       "    </tr>\n",
       "    <tr>\n",
       "      <th>19628</th>\n",
       "      <td>A721033</td>\n",
       "      <td>Lil Bit</td>\n",
       "      <td>2019-05-21 14:42:00</td>\n",
       "      <td>May 2019</td>\n",
       "      <td>05/20/2015</td>\n",
       "      <td>Return to Owner</td>\n",
       "      <td>NaN</td>\n",
       "      <td>Dog</td>\n",
       "      <td>Neutered Male</td>\n",
       "      <td>4 years</td>\n",
       "      <td>Rat Terrier Mix</td>\n",
       "      <td>Tricolor/Brown Brindle</td>\n",
       "      <td>30</td>\n",
       "    </tr>\n",
       "    <tr>\n",
       "      <th>4945</th>\n",
       "      <td>A721033</td>\n",
       "      <td>Lil Bit</td>\n",
       "      <td>2019-08-10 11:56:00</td>\n",
       "      <td>Aug 2019</td>\n",
       "      <td>05/20/2015</td>\n",
       "      <td>Return to Owner</td>\n",
       "      <td>NaN</td>\n",
       "      <td>Dog</td>\n",
       "      <td>Neutered Male</td>\n",
       "      <td>4 years</td>\n",
       "      <td>Rat Terrier Mix</td>\n",
       "      <td>Tricolor/Brown Brindle</td>\n",
       "      <td>31</td>\n",
       "    </tr>\n",
       "    <tr>\n",
       "      <th>67961</th>\n",
       "      <td>A721033</td>\n",
       "      <td>Lil Bit</td>\n",
       "      <td>2019-09-19 11:02:00</td>\n",
       "      <td>Sep 2019</td>\n",
       "      <td>05/20/2015</td>\n",
       "      <td>Return to Owner</td>\n",
       "      <td>NaN</td>\n",
       "      <td>Dog</td>\n",
       "      <td>Neutered Male</td>\n",
       "      <td>4 years</td>\n",
       "      <td>Rat Terrier Mix</td>\n",
       "      <td>Tricolor/Brown Brindle</td>\n",
       "      <td>32</td>\n",
       "    </tr>\n",
       "    <tr>\n",
       "      <th>73079</th>\n",
       "      <td>A721033</td>\n",
       "      <td>Lil Bit</td>\n",
       "      <td>2019-10-20 11:35:00</td>\n",
       "      <td>Oct 2019</td>\n",
       "      <td>05/20/2015</td>\n",
       "      <td>Rto-Adopt</td>\n",
       "      <td>NaN</td>\n",
       "      <td>Dog</td>\n",
       "      <td>Neutered Male</td>\n",
       "      <td>4 years</td>\n",
       "      <td>Rat Terrier Mix</td>\n",
       "      <td>Tricolor/Brown Brindle</td>\n",
       "      <td>33</td>\n",
       "    </tr>\n",
       "  </tbody>\n",
       "</table>\n",
       "</div>"
      ],
      "text/plain": [
       "      Animal ID     Name            DateTime MonthYear Date of Birth  \\\n",
       "31114   A721033  Lil Bit 2019-05-04 08:37:00  May 2019    05/20/2015   \n",
       "19628   A721033  Lil Bit 2019-05-21 14:42:00  May 2019    05/20/2015   \n",
       "4945    A721033  Lil Bit 2019-08-10 11:56:00  Aug 2019    05/20/2015   \n",
       "67961   A721033  Lil Bit 2019-09-19 11:02:00  Sep 2019    05/20/2015   \n",
       "73079   A721033  Lil Bit 2019-10-20 11:35:00  Oct 2019    05/20/2015   \n",
       "\n",
       "          Outcome Type Outcome Subtype Animal Type Sex upon Outcome  \\\n",
       "31114  Return to Owner             NaN         Dog    Neutered Male   \n",
       "19628  Return to Owner             NaN         Dog    Neutered Male   \n",
       "4945   Return to Owner             NaN         Dog    Neutered Male   \n",
       "67961  Return to Owner             NaN         Dog    Neutered Male   \n",
       "73079        Rto-Adopt             NaN         Dog    Neutered Male   \n",
       "\n",
       "      Age upon Outcome            Breed                   Color  Outcome Num  \n",
       "31114          3 years  Rat Terrier Mix  Tricolor/Brown Brindle           29  \n",
       "19628          4 years  Rat Terrier Mix  Tricolor/Brown Brindle           30  \n",
       "4945           4 years  Rat Terrier Mix  Tricolor/Brown Brindle           31  \n",
       "67961          4 years  Rat Terrier Mix  Tricolor/Brown Brindle           32  \n",
       "73079          4 years  Rat Terrier Mix  Tricolor/Brown Brindle           33  "
      ]
     },
     "execution_count": 9,
     "metadata": {},
     "output_type": "execute_result"
    }
   ],
   "source": [
    "# ... and multiple outcomes\n",
    "df_out.loc[df_out['Animal ID'] == 'A721033'].tail(5)"
   ]
  },
  {
   "cell_type": "code",
   "execution_count": 10,
   "metadata": {
    "ExecuteTime": {
     "end_time": "2022-09-20T20:22:08.903345Z",
     "start_time": "2022-09-20T20:22:08.642874Z"
    }
   },
   "outputs": [],
   "source": [
    "# Let's try merging using these new iterative count columns\n",
    "df = df_in.merge(df_out, \n",
    "                 left_on=['Animal ID', 'Intake Num'], \n",
    "                 right_on=['Animal ID', 'Outcome Num'],\n",
    "                 how='inner',\n",
    "                 suffixes=(\"_in\", \"_out\"))"
   ]
  },
  {
   "cell_type": "code",
   "execution_count": 11,
   "metadata": {
    "ExecuteTime": {
     "end_time": "2022-09-20T20:22:08.934345Z",
     "start_time": "2022-09-20T20:22:08.905344Z"
    }
   },
   "outputs": [
    {
     "data": {
      "text/html": [
       "<div>\n",
       "<style scoped>\n",
       "    .dataframe tbody tr th:only-of-type {\n",
       "        vertical-align: middle;\n",
       "    }\n",
       "\n",
       "    .dataframe tbody tr th {\n",
       "        vertical-align: top;\n",
       "    }\n",
       "\n",
       "    .dataframe thead th {\n",
       "        text-align: right;\n",
       "    }\n",
       "</style>\n",
       "<table border=\"1\" class=\"dataframe\">\n",
       "  <thead>\n",
       "    <tr style=\"text-align: right;\">\n",
       "      <th></th>\n",
       "      <th>Animal ID</th>\n",
       "      <th>Name_in</th>\n",
       "      <th>DateTime_in</th>\n",
       "      <th>MonthYear_in</th>\n",
       "      <th>Found Location</th>\n",
       "      <th>Intake Type</th>\n",
       "      <th>Intake Condition</th>\n",
       "      <th>Animal Type_in</th>\n",
       "      <th>Sex upon Intake</th>\n",
       "      <th>Age upon Intake</th>\n",
       "      <th>Breed_in</th>\n",
       "      <th>Color_in</th>\n",
       "      <th>Intake Num</th>\n",
       "      <th>Name_out</th>\n",
       "      <th>DateTime_out</th>\n",
       "      <th>MonthYear_out</th>\n",
       "      <th>Date of Birth</th>\n",
       "      <th>Outcome Type</th>\n",
       "      <th>Outcome Subtype</th>\n",
       "      <th>Animal Type_out</th>\n",
       "      <th>Sex upon Outcome</th>\n",
       "      <th>Age upon Outcome</th>\n",
       "      <th>Breed_out</th>\n",
       "      <th>Color_out</th>\n",
       "      <th>Outcome Num</th>\n",
       "    </tr>\n",
       "  </thead>\n",
       "  <tbody>\n",
       "    <tr>\n",
       "      <th>0</th>\n",
       "      <td>A521520</td>\n",
       "      <td>Nina</td>\n",
       "      <td>2013-10-01 07:51:00</td>\n",
       "      <td>October 2013</td>\n",
       "      <td>Norht Ec in Austin (TX)</td>\n",
       "      <td>Stray</td>\n",
       "      <td>Normal</td>\n",
       "      <td>Dog</td>\n",
       "      <td>Spayed Female</td>\n",
       "      <td>7 years</td>\n",
       "      <td>Border Terrier/Border Collie</td>\n",
       "      <td>White/Tan</td>\n",
       "      <td>1</td>\n",
       "      <td>Nina</td>\n",
       "      <td>2013-10-01 15:39:00</td>\n",
       "      <td>Oct 2013</td>\n",
       "      <td>09/07/2006</td>\n",
       "      <td>Return to Owner</td>\n",
       "      <td>NaN</td>\n",
       "      <td>Dog</td>\n",
       "      <td>Spayed Female</td>\n",
       "      <td>7 years</td>\n",
       "      <td>Border Terrier/Border Collie</td>\n",
       "      <td>White/Tan</td>\n",
       "      <td>1</td>\n",
       "    </tr>\n",
       "    <tr>\n",
       "      <th>1</th>\n",
       "      <td>A664236</td>\n",
       "      <td>NaN</td>\n",
       "      <td>2013-10-01 08:33:00</td>\n",
       "      <td>October 2013</td>\n",
       "      <td>Abia in Austin (TX)</td>\n",
       "      <td>Stray</td>\n",
       "      <td>Normal</td>\n",
       "      <td>Cat</td>\n",
       "      <td>Unknown</td>\n",
       "      <td>1 week</td>\n",
       "      <td>Domestic Shorthair Mix</td>\n",
       "      <td>Orange/White</td>\n",
       "      <td>1</td>\n",
       "      <td>NaN</td>\n",
       "      <td>2013-10-01 10:44:00</td>\n",
       "      <td>Oct 2013</td>\n",
       "      <td>09/24/2013</td>\n",
       "      <td>Transfer</td>\n",
       "      <td>Partner</td>\n",
       "      <td>Cat</td>\n",
       "      <td>Unknown</td>\n",
       "      <td>1 week</td>\n",
       "      <td>Domestic Shorthair Mix</td>\n",
       "      <td>Orange/White</td>\n",
       "      <td>1</td>\n",
       "    </tr>\n",
       "    <tr>\n",
       "      <th>2</th>\n",
       "      <td>A664237</td>\n",
       "      <td>NaN</td>\n",
       "      <td>2013-10-01 08:33:00</td>\n",
       "      <td>October 2013</td>\n",
       "      <td>Abia in Austin (TX)</td>\n",
       "      <td>Stray</td>\n",
       "      <td>Normal</td>\n",
       "      <td>Cat</td>\n",
       "      <td>Unknown</td>\n",
       "      <td>1 week</td>\n",
       "      <td>Domestic Shorthair Mix</td>\n",
       "      <td>Orange/White</td>\n",
       "      <td>1</td>\n",
       "      <td>NaN</td>\n",
       "      <td>2013-10-01 10:44:00</td>\n",
       "      <td>Oct 2013</td>\n",
       "      <td>09/24/2013</td>\n",
       "      <td>Transfer</td>\n",
       "      <td>Partner</td>\n",
       "      <td>Cat</td>\n",
       "      <td>Unknown</td>\n",
       "      <td>1 week</td>\n",
       "      <td>Domestic Shorthair Mix</td>\n",
       "      <td>Orange/White</td>\n",
       "      <td>1</td>\n",
       "    </tr>\n",
       "    <tr>\n",
       "      <th>3</th>\n",
       "      <td>A664235</td>\n",
       "      <td>NaN</td>\n",
       "      <td>2013-10-01 08:33:00</td>\n",
       "      <td>October 2013</td>\n",
       "      <td>Abia in Austin (TX)</td>\n",
       "      <td>Stray</td>\n",
       "      <td>Normal</td>\n",
       "      <td>Cat</td>\n",
       "      <td>Unknown</td>\n",
       "      <td>1 week</td>\n",
       "      <td>Domestic Shorthair Mix</td>\n",
       "      <td>Orange/White</td>\n",
       "      <td>1</td>\n",
       "      <td>NaN</td>\n",
       "      <td>2013-10-01 10:39:00</td>\n",
       "      <td>Oct 2013</td>\n",
       "      <td>09/24/2013</td>\n",
       "      <td>Transfer</td>\n",
       "      <td>Partner</td>\n",
       "      <td>Cat</td>\n",
       "      <td>Unknown</td>\n",
       "      <td>1 week</td>\n",
       "      <td>Domestic Shorthair Mix</td>\n",
       "      <td>Orange/White</td>\n",
       "      <td>1</td>\n",
       "    </tr>\n",
       "    <tr>\n",
       "      <th>4</th>\n",
       "      <td>A664233</td>\n",
       "      <td>Stevie</td>\n",
       "      <td>2013-10-01 08:53:00</td>\n",
       "      <td>October 2013</td>\n",
       "      <td>7405 Springtime in Austin (TX)</td>\n",
       "      <td>Stray</td>\n",
       "      <td>Injured</td>\n",
       "      <td>Dog</td>\n",
       "      <td>Intact Female</td>\n",
       "      <td>3 years</td>\n",
       "      <td>Pit Bull Mix</td>\n",
       "      <td>Blue/White</td>\n",
       "      <td>1</td>\n",
       "      <td>Stevie</td>\n",
       "      <td>2013-10-01 15:33:00</td>\n",
       "      <td>Oct 2013</td>\n",
       "      <td>09/30/2010</td>\n",
       "      <td>Euthanasia</td>\n",
       "      <td>Suffering</td>\n",
       "      <td>Dog</td>\n",
       "      <td>Intact Female</td>\n",
       "      <td>3 years</td>\n",
       "      <td>Pit Bull Mix</td>\n",
       "      <td>Blue/White</td>\n",
       "      <td>1</td>\n",
       "    </tr>\n",
       "  </tbody>\n",
       "</table>\n",
       "</div>"
      ],
      "text/plain": [
       "  Animal ID Name_in         DateTime_in  MonthYear_in  \\\n",
       "0   A521520    Nina 2013-10-01 07:51:00  October 2013   \n",
       "1   A664236     NaN 2013-10-01 08:33:00  October 2013   \n",
       "2   A664237     NaN 2013-10-01 08:33:00  October 2013   \n",
       "3   A664235     NaN 2013-10-01 08:33:00  October 2013   \n",
       "4   A664233  Stevie 2013-10-01 08:53:00  October 2013   \n",
       "\n",
       "                   Found Location Intake Type Intake Condition Animal Type_in  \\\n",
       "0         Norht Ec in Austin (TX)       Stray           Normal            Dog   \n",
       "1             Abia in Austin (TX)       Stray           Normal            Cat   \n",
       "2             Abia in Austin (TX)       Stray           Normal            Cat   \n",
       "3             Abia in Austin (TX)       Stray           Normal            Cat   \n",
       "4  7405 Springtime in Austin (TX)       Stray          Injured            Dog   \n",
       "\n",
       "  Sex upon Intake Age upon Intake                      Breed_in      Color_in  \\\n",
       "0   Spayed Female         7 years  Border Terrier/Border Collie     White/Tan   \n",
       "1         Unknown          1 week        Domestic Shorthair Mix  Orange/White   \n",
       "2         Unknown          1 week        Domestic Shorthair Mix  Orange/White   \n",
       "3         Unknown          1 week        Domestic Shorthair Mix  Orange/White   \n",
       "4   Intact Female         3 years                  Pit Bull Mix    Blue/White   \n",
       "\n",
       "   Intake Num Name_out        DateTime_out MonthYear_out Date of Birth  \\\n",
       "0           1     Nina 2013-10-01 15:39:00      Oct 2013    09/07/2006   \n",
       "1           1      NaN 2013-10-01 10:44:00      Oct 2013    09/24/2013   \n",
       "2           1      NaN 2013-10-01 10:44:00      Oct 2013    09/24/2013   \n",
       "3           1      NaN 2013-10-01 10:39:00      Oct 2013    09/24/2013   \n",
       "4           1   Stevie 2013-10-01 15:33:00      Oct 2013    09/30/2010   \n",
       "\n",
       "      Outcome Type Outcome Subtype Animal Type_out Sex upon Outcome  \\\n",
       "0  Return to Owner             NaN             Dog    Spayed Female   \n",
       "1         Transfer         Partner             Cat          Unknown   \n",
       "2         Transfer         Partner             Cat          Unknown   \n",
       "3         Transfer         Partner             Cat          Unknown   \n",
       "4       Euthanasia       Suffering             Dog    Intact Female   \n",
       "\n",
       "  Age upon Outcome                     Breed_out     Color_out  Outcome Num  \n",
       "0          7 years  Border Terrier/Border Collie     White/Tan            1  \n",
       "1           1 week        Domestic Shorthair Mix  Orange/White            1  \n",
       "2           1 week        Domestic Shorthair Mix  Orange/White            1  \n",
       "3           1 week        Domestic Shorthair Mix  Orange/White            1  \n",
       "4          3 years                  Pit Bull Mix    Blue/White            1  "
      ]
     },
     "execution_count": 11,
     "metadata": {},
     "output_type": "execute_result"
    }
   ],
   "source": [
    "df.head()"
   ]
  },
  {
   "cell_type": "code",
   "execution_count": 12,
   "metadata": {
    "ExecuteTime": {
     "end_time": "2022-09-20T20:22:08.980897Z",
     "start_time": "2022-09-20T20:22:08.935845Z"
    }
   },
   "outputs": [],
   "source": [
    "# Exploring rows where the simple iterative count didn't work \n",
    "# Aka the outcome date was before the intake date\n",
    "dirty = df.loc[df['DateTime_in'] > df['DateTime_out']]"
   ]
  },
  {
   "cell_type": "code",
   "execution_count": 13,
   "metadata": {
    "ExecuteTime": {
     "end_time": "2022-09-20T20:22:08.996345Z",
     "start_time": "2022-09-20T20:22:08.981874Z"
    },
    "scrolled": true
   },
   "outputs": [
    {
     "data": {
      "text/plain": [
       "(728, 25)"
      ]
     },
     "execution_count": 13,
     "metadata": {},
     "output_type": "execute_result"
    }
   ],
   "source": [
    "# Ew - this many rows didn't quite work with a simple iterative count\n",
    "dirty.shape"
   ]
  },
  {
   "cell_type": "code",
   "execution_count": 14,
   "metadata": {
    "ExecuteTime": {
     "end_time": "2022-09-20T20:22:09.011844Z",
     "start_time": "2022-09-20T20:22:08.998344Z"
    }
   },
   "outputs": [],
   "source": [
    "# Subsetting down, for simplicity\n",
    "dirty = dirty[['Animal ID', 'DateTime_in', 'Intake Num']]"
   ]
  },
  {
   "cell_type": "code",
   "execution_count": 15,
   "metadata": {
    "ExecuteTime": {
     "end_time": "2022-09-20T20:22:09.027343Z",
     "start_time": "2022-09-20T20:22:09.013874Z"
    }
   },
   "outputs": [],
   "source": [
    "# Going to add 1 to intake num, then try to merge again\n",
    "dirty['Intake Num'] += 1"
   ]
  },
  {
   "cell_type": "code",
   "execution_count": 16,
   "metadata": {
    "ExecuteTime": {
     "end_time": "2022-09-20T20:22:09.042874Z",
     "start_time": "2022-09-20T20:22:09.029344Z"
    }
   },
   "outputs": [
    {
     "data": {
      "text/html": [
       "<div>\n",
       "<style scoped>\n",
       "    .dataframe tbody tr th:only-of-type {\n",
       "        vertical-align: middle;\n",
       "    }\n",
       "\n",
       "    .dataframe tbody tr th {\n",
       "        vertical-align: top;\n",
       "    }\n",
       "\n",
       "    .dataframe thead th {\n",
       "        text-align: right;\n",
       "    }\n",
       "</style>\n",
       "<table border=\"1\" class=\"dataframe\">\n",
       "  <thead>\n",
       "    <tr style=\"text-align: right;\">\n",
       "      <th></th>\n",
       "      <th>Animal ID</th>\n",
       "      <th>DateTime_in</th>\n",
       "      <th>Intake Num</th>\n",
       "    </tr>\n",
       "  </thead>\n",
       "  <tbody>\n",
       "    <tr>\n",
       "      <th>203</th>\n",
       "      <td>A663004</td>\n",
       "      <td>2013-10-04 14:11:00</td>\n",
       "      <td>2</td>\n",
       "    </tr>\n",
       "    <tr>\n",
       "      <th>288</th>\n",
       "      <td>A663572</td>\n",
       "      <td>2013-10-06 11:00:00</td>\n",
       "      <td>2</td>\n",
       "    </tr>\n",
       "    <tr>\n",
       "      <th>426</th>\n",
       "      <td>A663722</td>\n",
       "      <td>2013-10-09 12:11:00</td>\n",
       "      <td>2</td>\n",
       "    </tr>\n",
       "    <tr>\n",
       "      <th>427</th>\n",
       "      <td>A663723</td>\n",
       "      <td>2013-10-09 12:11:00</td>\n",
       "      <td>2</td>\n",
       "    </tr>\n",
       "    <tr>\n",
       "      <th>609</th>\n",
       "      <td>A663667</td>\n",
       "      <td>2013-10-12 17:17:00</td>\n",
       "      <td>2</td>\n",
       "    </tr>\n",
       "  </tbody>\n",
       "</table>\n",
       "</div>"
      ],
      "text/plain": [
       "    Animal ID         DateTime_in  Intake Num\n",
       "203   A663004 2013-10-04 14:11:00           2\n",
       "288   A663572 2013-10-06 11:00:00           2\n",
       "426   A663722 2013-10-09 12:11:00           2\n",
       "427   A663723 2013-10-09 12:11:00           2\n",
       "609   A663667 2013-10-12 17:17:00           2"
      ]
     },
     "execution_count": 16,
     "metadata": {},
     "output_type": "execute_result"
    }
   ],
   "source": [
    "dirty.head()"
   ]
  },
  {
   "cell_type": "code",
   "execution_count": 17,
   "metadata": {
    "ExecuteTime": {
     "end_time": "2022-09-20T20:22:09.058343Z",
     "start_time": "2022-09-20T20:22:09.044346Z"
    }
   },
   "outputs": [],
   "source": [
    "# Now let's get a clean version of df_in ready\n",
    "df_in_clean = df_in.copy()"
   ]
  },
  {
   "cell_type": "code",
   "execution_count": 18,
   "metadata": {
    "ExecuteTime": {
     "end_time": "2022-09-20T20:22:09.197846Z",
     "start_time": "2022-09-20T20:22:09.060844Z"
    }
   },
   "outputs": [],
   "source": [
    "# Adding columns just on the dirty rows using a left merge\n",
    "# The Intake Num with \"first\" was the 1st attempt, \"second\" is 2nd attempt\n",
    "df_in_clean = df_in_clean.merge(dirty,\n",
    "                                left_on=['Animal ID', 'DateTime'], \n",
    "                                right_on=['Animal ID', 'DateTime_in'], \n",
    "                                how='left',\n",
    "                                suffixes=('_first', '_second'))"
   ]
  },
  {
   "cell_type": "code",
   "execution_count": 19,
   "metadata": {
    "ExecuteTime": {
     "end_time": "2022-09-20T20:22:09.430370Z",
     "start_time": "2022-09-20T20:22:09.199345Z"
    }
   },
   "outputs": [
    {
     "name": "stdout",
     "output_type": "stream",
     "text": [
      "<class 'pandas.core.frame.DataFrame'>\n",
      "Int64Index: 144244 entries, 0 to 144243\n",
      "Data columns (total 14 columns):\n",
      " #   Column             Non-Null Count   Dtype         \n",
      "---  ------             --------------   -----         \n",
      " 0   Animal ID          144244 non-null  object        \n",
      " 1   Name               102062 non-null  object        \n",
      " 2   DateTime           144244 non-null  datetime64[ns]\n",
      " 3   MonthYear          144244 non-null  object        \n",
      " 4   Found Location     144244 non-null  object        \n",
      " 5   Intake Type        144244 non-null  object        \n",
      " 6   Intake Condition   144244 non-null  object        \n",
      " 7   Animal Type        144244 non-null  object        \n",
      " 8   Sex upon Intake    144243 non-null  object        \n",
      " 9   Age upon Intake    144244 non-null  object        \n",
      " 10  Breed              144244 non-null  object        \n",
      " 11  Color              144244 non-null  object        \n",
      " 12  Intake Num_first   144244 non-null  int64         \n",
      " 13  Intake Num_second  728 non-null     float64       \n",
      "dtypes: datetime64[ns](1), float64(1), int64(1), object(11)\n",
      "memory usage: 16.5+ MB\n"
     ]
    }
   ],
   "source": [
    "# Don't need an extra datetime column anymore\n",
    "df_in_clean = df_in_clean.drop(columns=['DateTime_in'])\n",
    "# If we check, we can see that non-null count in Intake Num_second\n",
    "# matches the number of dirty rows we found above\n",
    "df_in_clean.info()"
   ]
  },
  {
   "cell_type": "code",
   "execution_count": 20,
   "metadata": {
    "ExecuteTime": {
     "end_time": "2022-09-20T20:22:09.445872Z",
     "start_time": "2022-09-20T20:22:09.431844Z"
    }
   },
   "outputs": [],
   "source": [
    "# Creating a new Intake Num column\n",
    "# Using np.where to take the second num when not null, else the first\n",
    "df_in_clean['Intake Num'] = np.where(~df_in_clean['Intake Num_second'].isna(),\n",
    "                                     df_in_clean['Intake Num_second'],\n",
    "                                     df_in_clean['Intake Num_first'])"
   ]
  },
  {
   "cell_type": "code",
   "execution_count": 21,
   "metadata": {
    "ExecuteTime": {
     "end_time": "2022-09-20T20:22:09.740346Z",
     "start_time": "2022-09-20T20:22:09.447345Z"
    }
   },
   "outputs": [],
   "source": [
    "# Now trying the big merge again, using the new Intake Num\n",
    "df = df_in_clean.merge(df_out, \n",
    "                       left_on=['Animal ID', 'Intake Num'], \n",
    "                       right_on=['Animal ID', 'Outcome Num'],\n",
    "                       how='inner',\n",
    "                       suffixes=(\"_in\", \"_out\"))"
   ]
  },
  {
   "cell_type": "code",
   "execution_count": 22,
   "metadata": {
    "ExecuteTime": {
     "end_time": "2022-09-20T20:22:09.802345Z",
     "start_time": "2022-09-20T20:22:09.742344Z"
    }
   },
   "outputs": [
    {
     "data": {
      "text/html": [
       "<div>\n",
       "<style scoped>\n",
       "    .dataframe tbody tr th:only-of-type {\n",
       "        vertical-align: middle;\n",
       "    }\n",
       "\n",
       "    .dataframe tbody tr th {\n",
       "        vertical-align: top;\n",
       "    }\n",
       "\n",
       "    .dataframe thead th {\n",
       "        text-align: right;\n",
       "    }\n",
       "</style>\n",
       "<table border=\"1\" class=\"dataframe\">\n",
       "  <thead>\n",
       "    <tr style=\"text-align: right;\">\n",
       "      <th></th>\n",
       "      <th>Animal ID</th>\n",
       "      <th>Name_in</th>\n",
       "      <th>DateTime_in</th>\n",
       "      <th>MonthYear_in</th>\n",
       "      <th>Found Location</th>\n",
       "      <th>Intake Type</th>\n",
       "      <th>Intake Condition</th>\n",
       "      <th>Animal Type_in</th>\n",
       "      <th>Sex upon Intake</th>\n",
       "      <th>Age upon Intake</th>\n",
       "      <th>Breed_in</th>\n",
       "      <th>Color_in</th>\n",
       "      <th>...</th>\n",
       "      <th>Name_out</th>\n",
       "      <th>DateTime_out</th>\n",
       "      <th>MonthYear_out</th>\n",
       "      <th>Date of Birth</th>\n",
       "      <th>Outcome Type</th>\n",
       "      <th>Outcome Subtype</th>\n",
       "      <th>Animal Type_out</th>\n",
       "      <th>Sex upon Outcome</th>\n",
       "      <th>Age upon Outcome</th>\n",
       "      <th>Breed_out</th>\n",
       "      <th>Color_out</th>\n",
       "      <th>Outcome Num</th>\n",
       "    </tr>\n",
       "  </thead>\n",
       "  <tbody>\n",
       "  </tbody>\n",
       "</table>\n",
       "<p>0 rows × 27 columns</p>\n",
       "</div>"
      ],
      "text/plain": [
       "Empty DataFrame\n",
       "Columns: [Animal ID, Name_in, DateTime_in, MonthYear_in, Found Location, Intake Type, Intake Condition, Animal Type_in, Sex upon Intake, Age upon Intake, Breed_in, Color_in, Intake Num_first, Intake Num_second, Intake Num, Name_out, DateTime_out, MonthYear_out, Date of Birth, Outcome Type, Outcome Subtype, Animal Type_out, Sex upon Outcome, Age upon Outcome, Breed_out, Color_out, Outcome Num]\n",
       "Index: []\n",
       "\n",
       "[0 rows x 27 columns]"
      ]
     },
     "execution_count": 22,
     "metadata": {},
     "output_type": "execute_result"
    }
   ],
   "source": [
    "# Re-checking for rows with outcome date before intake date\n",
    "df.loc[df['DateTime_in'] > df['DateTime_out']] # yassssss"
   ]
  },
  {
   "cell_type": "markdown",
   "metadata": {},
   "source": [
    "## Data Exploration and Feature Engineering"
   ]
  },
  {
   "cell_type": "code",
   "execution_count": 23,
   "metadata": {
    "ExecuteTime": {
     "end_time": "2022-09-20T20:22:09.817874Z",
     "start_time": "2022-09-20T20:22:09.805348Z"
    }
   },
   "outputs": [
    {
     "data": {
      "text/html": [
       "<div>\n",
       "<style scoped>\n",
       "    .dataframe tbody tr th:only-of-type {\n",
       "        vertical-align: middle;\n",
       "    }\n",
       "\n",
       "    .dataframe tbody tr th {\n",
       "        vertical-align: top;\n",
       "    }\n",
       "\n",
       "    .dataframe thead th {\n",
       "        text-align: right;\n",
       "    }\n",
       "</style>\n",
       "<table border=\"1\" class=\"dataframe\">\n",
       "  <thead>\n",
       "    <tr style=\"text-align: right;\">\n",
       "      <th></th>\n",
       "      <th>0</th>\n",
       "      <th>1</th>\n",
       "      <th>2</th>\n",
       "      <th>3</th>\n",
       "      <th>4</th>\n",
       "    </tr>\n",
       "  </thead>\n",
       "  <tbody>\n",
       "    <tr>\n",
       "      <th>Animal ID</th>\n",
       "      <td>A521520</td>\n",
       "      <td>A664236</td>\n",
       "      <td>A664237</td>\n",
       "      <td>A664235</td>\n",
       "      <td>A664233</td>\n",
       "    </tr>\n",
       "    <tr>\n",
       "      <th>Name_in</th>\n",
       "      <td>Nina</td>\n",
       "      <td>NaN</td>\n",
       "      <td>NaN</td>\n",
       "      <td>NaN</td>\n",
       "      <td>Stevie</td>\n",
       "    </tr>\n",
       "    <tr>\n",
       "      <th>DateTime_in</th>\n",
       "      <td>2013-10-01 07:51:00</td>\n",
       "      <td>2013-10-01 08:33:00</td>\n",
       "      <td>2013-10-01 08:33:00</td>\n",
       "      <td>2013-10-01 08:33:00</td>\n",
       "      <td>2013-10-01 08:53:00</td>\n",
       "    </tr>\n",
       "    <tr>\n",
       "      <th>MonthYear_in</th>\n",
       "      <td>October 2013</td>\n",
       "      <td>October 2013</td>\n",
       "      <td>October 2013</td>\n",
       "      <td>October 2013</td>\n",
       "      <td>October 2013</td>\n",
       "    </tr>\n",
       "    <tr>\n",
       "      <th>Found Location</th>\n",
       "      <td>Norht Ec in Austin (TX)</td>\n",
       "      <td>Abia in Austin (TX)</td>\n",
       "      <td>Abia in Austin (TX)</td>\n",
       "      <td>Abia in Austin (TX)</td>\n",
       "      <td>7405 Springtime in Austin (TX)</td>\n",
       "    </tr>\n",
       "    <tr>\n",
       "      <th>Intake Type</th>\n",
       "      <td>Stray</td>\n",
       "      <td>Stray</td>\n",
       "      <td>Stray</td>\n",
       "      <td>Stray</td>\n",
       "      <td>Stray</td>\n",
       "    </tr>\n",
       "    <tr>\n",
       "      <th>Intake Condition</th>\n",
       "      <td>Normal</td>\n",
       "      <td>Normal</td>\n",
       "      <td>Normal</td>\n",
       "      <td>Normal</td>\n",
       "      <td>Injured</td>\n",
       "    </tr>\n",
       "    <tr>\n",
       "      <th>Animal Type_in</th>\n",
       "      <td>Dog</td>\n",
       "      <td>Cat</td>\n",
       "      <td>Cat</td>\n",
       "      <td>Cat</td>\n",
       "      <td>Dog</td>\n",
       "    </tr>\n",
       "    <tr>\n",
       "      <th>Sex upon Intake</th>\n",
       "      <td>Spayed Female</td>\n",
       "      <td>Unknown</td>\n",
       "      <td>Unknown</td>\n",
       "      <td>Unknown</td>\n",
       "      <td>Intact Female</td>\n",
       "    </tr>\n",
       "    <tr>\n",
       "      <th>Age upon Intake</th>\n",
       "      <td>7 years</td>\n",
       "      <td>1 week</td>\n",
       "      <td>1 week</td>\n",
       "      <td>1 week</td>\n",
       "      <td>3 years</td>\n",
       "    </tr>\n",
       "    <tr>\n",
       "      <th>Breed_in</th>\n",
       "      <td>Border Terrier/Border Collie</td>\n",
       "      <td>Domestic Shorthair Mix</td>\n",
       "      <td>Domestic Shorthair Mix</td>\n",
       "      <td>Domestic Shorthair Mix</td>\n",
       "      <td>Pit Bull Mix</td>\n",
       "    </tr>\n",
       "    <tr>\n",
       "      <th>Color_in</th>\n",
       "      <td>White/Tan</td>\n",
       "      <td>Orange/White</td>\n",
       "      <td>Orange/White</td>\n",
       "      <td>Orange/White</td>\n",
       "      <td>Blue/White</td>\n",
       "    </tr>\n",
       "    <tr>\n",
       "      <th>Intake Num_first</th>\n",
       "      <td>1</td>\n",
       "      <td>1</td>\n",
       "      <td>1</td>\n",
       "      <td>1</td>\n",
       "      <td>1</td>\n",
       "    </tr>\n",
       "    <tr>\n",
       "      <th>Intake Num_second</th>\n",
       "      <td>NaN</td>\n",
       "      <td>NaN</td>\n",
       "      <td>NaN</td>\n",
       "      <td>NaN</td>\n",
       "      <td>NaN</td>\n",
       "    </tr>\n",
       "    <tr>\n",
       "      <th>Intake Num</th>\n",
       "      <td>1.0</td>\n",
       "      <td>1.0</td>\n",
       "      <td>1.0</td>\n",
       "      <td>1.0</td>\n",
       "      <td>1.0</td>\n",
       "    </tr>\n",
       "    <tr>\n",
       "      <th>Name_out</th>\n",
       "      <td>Nina</td>\n",
       "      <td>NaN</td>\n",
       "      <td>NaN</td>\n",
       "      <td>NaN</td>\n",
       "      <td>Stevie</td>\n",
       "    </tr>\n",
       "    <tr>\n",
       "      <th>DateTime_out</th>\n",
       "      <td>2013-10-01 15:39:00</td>\n",
       "      <td>2013-10-01 10:44:00</td>\n",
       "      <td>2013-10-01 10:44:00</td>\n",
       "      <td>2013-10-01 10:39:00</td>\n",
       "      <td>2013-10-01 15:33:00</td>\n",
       "    </tr>\n",
       "    <tr>\n",
       "      <th>MonthYear_out</th>\n",
       "      <td>Oct 2013</td>\n",
       "      <td>Oct 2013</td>\n",
       "      <td>Oct 2013</td>\n",
       "      <td>Oct 2013</td>\n",
       "      <td>Oct 2013</td>\n",
       "    </tr>\n",
       "    <tr>\n",
       "      <th>Date of Birth</th>\n",
       "      <td>09/07/2006</td>\n",
       "      <td>09/24/2013</td>\n",
       "      <td>09/24/2013</td>\n",
       "      <td>09/24/2013</td>\n",
       "      <td>09/30/2010</td>\n",
       "    </tr>\n",
       "    <tr>\n",
       "      <th>Outcome Type</th>\n",
       "      <td>Return to Owner</td>\n",
       "      <td>Transfer</td>\n",
       "      <td>Transfer</td>\n",
       "      <td>Transfer</td>\n",
       "      <td>Euthanasia</td>\n",
       "    </tr>\n",
       "    <tr>\n",
       "      <th>Outcome Subtype</th>\n",
       "      <td>NaN</td>\n",
       "      <td>Partner</td>\n",
       "      <td>Partner</td>\n",
       "      <td>Partner</td>\n",
       "      <td>Suffering</td>\n",
       "    </tr>\n",
       "    <tr>\n",
       "      <th>Animal Type_out</th>\n",
       "      <td>Dog</td>\n",
       "      <td>Cat</td>\n",
       "      <td>Cat</td>\n",
       "      <td>Cat</td>\n",
       "      <td>Dog</td>\n",
       "    </tr>\n",
       "    <tr>\n",
       "      <th>Sex upon Outcome</th>\n",
       "      <td>Spayed Female</td>\n",
       "      <td>Unknown</td>\n",
       "      <td>Unknown</td>\n",
       "      <td>Unknown</td>\n",
       "      <td>Intact Female</td>\n",
       "    </tr>\n",
       "    <tr>\n",
       "      <th>Age upon Outcome</th>\n",
       "      <td>7 years</td>\n",
       "      <td>1 week</td>\n",
       "      <td>1 week</td>\n",
       "      <td>1 week</td>\n",
       "      <td>3 years</td>\n",
       "    </tr>\n",
       "    <tr>\n",
       "      <th>Breed_out</th>\n",
       "      <td>Border Terrier/Border Collie</td>\n",
       "      <td>Domestic Shorthair Mix</td>\n",
       "      <td>Domestic Shorthair Mix</td>\n",
       "      <td>Domestic Shorthair Mix</td>\n",
       "      <td>Pit Bull Mix</td>\n",
       "    </tr>\n",
       "    <tr>\n",
       "      <th>Color_out</th>\n",
       "      <td>White/Tan</td>\n",
       "      <td>Orange/White</td>\n",
       "      <td>Orange/White</td>\n",
       "      <td>Orange/White</td>\n",
       "      <td>Blue/White</td>\n",
       "    </tr>\n",
       "    <tr>\n",
       "      <th>Outcome Num</th>\n",
       "      <td>1</td>\n",
       "      <td>1</td>\n",
       "      <td>1</td>\n",
       "      <td>1</td>\n",
       "      <td>1</td>\n",
       "    </tr>\n",
       "  </tbody>\n",
       "</table>\n",
       "</div>"
      ],
      "text/plain": [
       "                                              0                       1  \\\n",
       "Animal ID                               A521520                 A664236   \n",
       "Name_in                                    Nina                     NaN   \n",
       "DateTime_in                 2013-10-01 07:51:00     2013-10-01 08:33:00   \n",
       "MonthYear_in                       October 2013            October 2013   \n",
       "Found Location          Norht Ec in Austin (TX)     Abia in Austin (TX)   \n",
       "Intake Type                               Stray                   Stray   \n",
       "Intake Condition                         Normal                  Normal   \n",
       "Animal Type_in                              Dog                     Cat   \n",
       "Sex upon Intake                   Spayed Female                 Unknown   \n",
       "Age upon Intake                         7 years                  1 week   \n",
       "Breed_in           Border Terrier/Border Collie  Domestic Shorthair Mix   \n",
       "Color_in                              White/Tan            Orange/White   \n",
       "Intake Num_first                              1                       1   \n",
       "Intake Num_second                           NaN                     NaN   \n",
       "Intake Num                                  1.0                     1.0   \n",
       "Name_out                                   Nina                     NaN   \n",
       "DateTime_out                2013-10-01 15:39:00     2013-10-01 10:44:00   \n",
       "MonthYear_out                          Oct 2013                Oct 2013   \n",
       "Date of Birth                        09/07/2006              09/24/2013   \n",
       "Outcome Type                    Return to Owner                Transfer   \n",
       "Outcome Subtype                             NaN                 Partner   \n",
       "Animal Type_out                             Dog                     Cat   \n",
       "Sex upon Outcome                  Spayed Female                 Unknown   \n",
       "Age upon Outcome                        7 years                  1 week   \n",
       "Breed_out          Border Terrier/Border Collie  Domestic Shorthair Mix   \n",
       "Color_out                             White/Tan            Orange/White   \n",
       "Outcome Num                                   1                       1   \n",
       "\n",
       "                                        2                       3  \\\n",
       "Animal ID                         A664237                 A664235   \n",
       "Name_in                               NaN                     NaN   \n",
       "DateTime_in           2013-10-01 08:33:00     2013-10-01 08:33:00   \n",
       "MonthYear_in                 October 2013            October 2013   \n",
       "Found Location        Abia in Austin (TX)     Abia in Austin (TX)   \n",
       "Intake Type                         Stray                   Stray   \n",
       "Intake Condition                   Normal                  Normal   \n",
       "Animal Type_in                        Cat                     Cat   \n",
       "Sex upon Intake                   Unknown                 Unknown   \n",
       "Age upon Intake                    1 week                  1 week   \n",
       "Breed_in           Domestic Shorthair Mix  Domestic Shorthair Mix   \n",
       "Color_in                     Orange/White            Orange/White   \n",
       "Intake Num_first                        1                       1   \n",
       "Intake Num_second                     NaN                     NaN   \n",
       "Intake Num                            1.0                     1.0   \n",
       "Name_out                              NaN                     NaN   \n",
       "DateTime_out          2013-10-01 10:44:00     2013-10-01 10:39:00   \n",
       "MonthYear_out                    Oct 2013                Oct 2013   \n",
       "Date of Birth                  09/24/2013              09/24/2013   \n",
       "Outcome Type                     Transfer                Transfer   \n",
       "Outcome Subtype                   Partner                 Partner   \n",
       "Animal Type_out                       Cat                     Cat   \n",
       "Sex upon Outcome                  Unknown                 Unknown   \n",
       "Age upon Outcome                   1 week                  1 week   \n",
       "Breed_out          Domestic Shorthair Mix  Domestic Shorthair Mix   \n",
       "Color_out                    Orange/White            Orange/White   \n",
       "Outcome Num                             1                       1   \n",
       "\n",
       "                                                4  \n",
       "Animal ID                                 A664233  \n",
       "Name_in                                    Stevie  \n",
       "DateTime_in                   2013-10-01 08:53:00  \n",
       "MonthYear_in                         October 2013  \n",
       "Found Location     7405 Springtime in Austin (TX)  \n",
       "Intake Type                                 Stray  \n",
       "Intake Condition                          Injured  \n",
       "Animal Type_in                                Dog  \n",
       "Sex upon Intake                     Intact Female  \n",
       "Age upon Intake                           3 years  \n",
       "Breed_in                             Pit Bull Mix  \n",
       "Color_in                               Blue/White  \n",
       "Intake Num_first                                1  \n",
       "Intake Num_second                             NaN  \n",
       "Intake Num                                    1.0  \n",
       "Name_out                                   Stevie  \n",
       "DateTime_out                  2013-10-01 15:33:00  \n",
       "MonthYear_out                            Oct 2013  \n",
       "Date of Birth                          09/30/2010  \n",
       "Outcome Type                           Euthanasia  \n",
       "Outcome Subtype                         Suffering  \n",
       "Animal Type_out                               Dog  \n",
       "Sex upon Outcome                    Intact Female  \n",
       "Age upon Outcome                          3 years  \n",
       "Breed_out                            Pit Bull Mix  \n",
       "Color_out                              Blue/White  \n",
       "Outcome Num                                     1  "
      ]
     },
     "execution_count": 23,
     "metadata": {},
     "output_type": "execute_result"
    }
   ],
   "source": [
    "df.head().T"
   ]
  },
  {
   "cell_type": "code",
   "execution_count": 24,
   "metadata": {
    "ExecuteTime": {
     "end_time": "2022-09-20T20:22:09.848874Z",
     "start_time": "2022-09-20T20:22:09.819344Z"
    }
   },
   "outputs": [],
   "source": [
    "# Segmenting down to mostly intake columns that I'll explore for modeling\n",
    "data = df[['Animal ID', 'DateTime_in', 'Intake Type', 'Intake Condition', \n",
    "           'Animal Type_in', 'Sex upon Intake', 'Age upon Intake', 'Breed_in', \n",
    "           'Color_in', 'Intake Num', 'DateTime_out', 'Date of Birth', 'Outcome Type']]"
   ]
  },
  {
   "cell_type": "code",
   "execution_count": 25,
   "metadata": {
    "ExecuteTime": {
     "end_time": "2022-09-20T20:22:09.864346Z",
     "start_time": "2022-09-20T20:22:09.850345Z"
    }
   },
   "outputs": [
    {
     "data": {
      "text/html": [
       "<div>\n",
       "<style scoped>\n",
       "    .dataframe tbody tr th:only-of-type {\n",
       "        vertical-align: middle;\n",
       "    }\n",
       "\n",
       "    .dataframe tbody tr th {\n",
       "        vertical-align: top;\n",
       "    }\n",
       "\n",
       "    .dataframe thead th {\n",
       "        text-align: right;\n",
       "    }\n",
       "</style>\n",
       "<table border=\"1\" class=\"dataframe\">\n",
       "  <thead>\n",
       "    <tr style=\"text-align: right;\">\n",
       "      <th></th>\n",
       "      <th>Animal ID</th>\n",
       "      <th>DateTime_in</th>\n",
       "      <th>Intake Type</th>\n",
       "      <th>Intake Condition</th>\n",
       "      <th>Animal Type_in</th>\n",
       "      <th>Sex upon Intake</th>\n",
       "      <th>Age upon Intake</th>\n",
       "      <th>Breed_in</th>\n",
       "      <th>Color_in</th>\n",
       "      <th>Intake Num</th>\n",
       "      <th>DateTime_out</th>\n",
       "      <th>Date of Birth</th>\n",
       "      <th>Outcome Type</th>\n",
       "    </tr>\n",
       "  </thead>\n",
       "  <tbody>\n",
       "    <tr>\n",
       "      <th>0</th>\n",
       "      <td>A521520</td>\n",
       "      <td>2013-10-01 07:51:00</td>\n",
       "      <td>Stray</td>\n",
       "      <td>Normal</td>\n",
       "      <td>Dog</td>\n",
       "      <td>Spayed Female</td>\n",
       "      <td>7 years</td>\n",
       "      <td>Border Terrier/Border Collie</td>\n",
       "      <td>White/Tan</td>\n",
       "      <td>1.0</td>\n",
       "      <td>2013-10-01 15:39:00</td>\n",
       "      <td>09/07/2006</td>\n",
       "      <td>Return to Owner</td>\n",
       "    </tr>\n",
       "    <tr>\n",
       "      <th>1</th>\n",
       "      <td>A664236</td>\n",
       "      <td>2013-10-01 08:33:00</td>\n",
       "      <td>Stray</td>\n",
       "      <td>Normal</td>\n",
       "      <td>Cat</td>\n",
       "      <td>Unknown</td>\n",
       "      <td>1 week</td>\n",
       "      <td>Domestic Shorthair Mix</td>\n",
       "      <td>Orange/White</td>\n",
       "      <td>1.0</td>\n",
       "      <td>2013-10-01 10:44:00</td>\n",
       "      <td>09/24/2013</td>\n",
       "      <td>Transfer</td>\n",
       "    </tr>\n",
       "    <tr>\n",
       "      <th>2</th>\n",
       "      <td>A664237</td>\n",
       "      <td>2013-10-01 08:33:00</td>\n",
       "      <td>Stray</td>\n",
       "      <td>Normal</td>\n",
       "      <td>Cat</td>\n",
       "      <td>Unknown</td>\n",
       "      <td>1 week</td>\n",
       "      <td>Domestic Shorthair Mix</td>\n",
       "      <td>Orange/White</td>\n",
       "      <td>1.0</td>\n",
       "      <td>2013-10-01 10:44:00</td>\n",
       "      <td>09/24/2013</td>\n",
       "      <td>Transfer</td>\n",
       "    </tr>\n",
       "    <tr>\n",
       "      <th>3</th>\n",
       "      <td>A664235</td>\n",
       "      <td>2013-10-01 08:33:00</td>\n",
       "      <td>Stray</td>\n",
       "      <td>Normal</td>\n",
       "      <td>Cat</td>\n",
       "      <td>Unknown</td>\n",
       "      <td>1 week</td>\n",
       "      <td>Domestic Shorthair Mix</td>\n",
       "      <td>Orange/White</td>\n",
       "      <td>1.0</td>\n",
       "      <td>2013-10-01 10:39:00</td>\n",
       "      <td>09/24/2013</td>\n",
       "      <td>Transfer</td>\n",
       "    </tr>\n",
       "    <tr>\n",
       "      <th>4</th>\n",
       "      <td>A664233</td>\n",
       "      <td>2013-10-01 08:53:00</td>\n",
       "      <td>Stray</td>\n",
       "      <td>Injured</td>\n",
       "      <td>Dog</td>\n",
       "      <td>Intact Female</td>\n",
       "      <td>3 years</td>\n",
       "      <td>Pit Bull Mix</td>\n",
       "      <td>Blue/White</td>\n",
       "      <td>1.0</td>\n",
       "      <td>2013-10-01 15:33:00</td>\n",
       "      <td>09/30/2010</td>\n",
       "      <td>Euthanasia</td>\n",
       "    </tr>\n",
       "  </tbody>\n",
       "</table>\n",
       "</div>"
      ],
      "text/plain": [
       "  Animal ID         DateTime_in Intake Type Intake Condition Animal Type_in  \\\n",
       "0   A521520 2013-10-01 07:51:00       Stray           Normal            Dog   \n",
       "1   A664236 2013-10-01 08:33:00       Stray           Normal            Cat   \n",
       "2   A664237 2013-10-01 08:33:00       Stray           Normal            Cat   \n",
       "3   A664235 2013-10-01 08:33:00       Stray           Normal            Cat   \n",
       "4   A664233 2013-10-01 08:53:00       Stray          Injured            Dog   \n",
       "\n",
       "  Sex upon Intake Age upon Intake                      Breed_in      Color_in  \\\n",
       "0   Spayed Female         7 years  Border Terrier/Border Collie     White/Tan   \n",
       "1         Unknown          1 week        Domestic Shorthair Mix  Orange/White   \n",
       "2         Unknown          1 week        Domestic Shorthair Mix  Orange/White   \n",
       "3         Unknown          1 week        Domestic Shorthair Mix  Orange/White   \n",
       "4   Intact Female         3 years                  Pit Bull Mix    Blue/White   \n",
       "\n",
       "   Intake Num        DateTime_out Date of Birth     Outcome Type  \n",
       "0         1.0 2013-10-01 15:39:00    09/07/2006  Return to Owner  \n",
       "1         1.0 2013-10-01 10:44:00    09/24/2013         Transfer  \n",
       "2         1.0 2013-10-01 10:44:00    09/24/2013         Transfer  \n",
       "3         1.0 2013-10-01 10:39:00    09/24/2013         Transfer  \n",
       "4         1.0 2013-10-01 15:33:00    09/30/2010       Euthanasia  "
      ]
     },
     "execution_count": 25,
     "metadata": {},
     "output_type": "execute_result"
    }
   ],
   "source": [
    "data.head()"
   ]
  },
  {
   "cell_type": "markdown",
   "metadata": {},
   "source": [
    "### Exploring Outcome Type - aka Target Engineering"
   ]
  },
  {
   "cell_type": "code",
   "execution_count": 26,
   "metadata": {
    "ExecuteTime": {
     "end_time": "2022-09-20T20:22:09.879846Z",
     "start_time": "2022-09-20T20:22:09.866345Z"
    }
   },
   "outputs": [
    {
     "data": {
      "text/plain": [
       "Adoption           65892\n",
       "Transfer           41204\n",
       "Return to Owner    23350\n",
       "Euthanasia          9301\n",
       "Died                1314\n",
       "Rto-Adopt            933\n",
       "Disposal             639\n",
       "Missing               70\n",
       "Relocate              23\n",
       "Stolen                 2\n",
       "Lost                   1\n",
       "Name: Outcome Type, dtype: int64"
      ]
     },
     "execution_count": 26,
     "metadata": {},
     "output_type": "execute_result"
    }
   ],
   "source": [
    "data['Outcome Type'].value_counts()"
   ]
  },
  {
   "cell_type": "code",
   "execution_count": 27,
   "metadata": {
    "ExecuteTime": {
     "end_time": "2022-09-20T20:22:09.926344Z",
     "start_time": "2022-09-20T20:22:09.881344Z"
    }
   },
   "outputs": [],
   "source": [
    "# Excluding animals that were returned to owner in some way\n",
    "data = data.loc[(data['Outcome Type'] != 'Return to Owner') & (data['Outcome Type'] != 'Rto-Adopt')]"
   ]
  },
  {
   "cell_type": "code",
   "execution_count": 28,
   "metadata": {
    "ExecuteTime": {
     "end_time": "2022-09-20T20:22:09.957344Z",
     "start_time": "2022-09-20T20:22:09.933844Z"
    }
   },
   "outputs": [
    {
     "data": {
      "text/html": [
       "<div>\n",
       "<style scoped>\n",
       "    .dataframe tbody tr th:only-of-type {\n",
       "        vertical-align: middle;\n",
       "    }\n",
       "\n",
       "    .dataframe tbody tr th {\n",
       "        vertical-align: top;\n",
       "    }\n",
       "\n",
       "    .dataframe thead th {\n",
       "        text-align: right;\n",
       "    }\n",
       "</style>\n",
       "<table border=\"1\" class=\"dataframe\">\n",
       "  <thead>\n",
       "    <tr style=\"text-align: right;\">\n",
       "      <th></th>\n",
       "      <th>Animal ID</th>\n",
       "      <th>DateTime_in</th>\n",
       "      <th>Intake Type</th>\n",
       "      <th>Intake Condition</th>\n",
       "      <th>Animal Type_in</th>\n",
       "      <th>Sex upon Intake</th>\n",
       "      <th>Age upon Intake</th>\n",
       "      <th>Breed_in</th>\n",
       "      <th>Color_in</th>\n",
       "      <th>Intake Num</th>\n",
       "      <th>DateTime_out</th>\n",
       "      <th>Date of Birth</th>\n",
       "      <th>Outcome Type</th>\n",
       "    </tr>\n",
       "  </thead>\n",
       "  <tbody>\n",
       "    <tr>\n",
       "      <th>1</th>\n",
       "      <td>A664236</td>\n",
       "      <td>2013-10-01 08:33:00</td>\n",
       "      <td>Stray</td>\n",
       "      <td>Normal</td>\n",
       "      <td>Cat</td>\n",
       "      <td>Unknown</td>\n",
       "      <td>1 week</td>\n",
       "      <td>Domestic Shorthair Mix</td>\n",
       "      <td>Orange/White</td>\n",
       "      <td>1.0</td>\n",
       "      <td>2013-10-01 10:44:00</td>\n",
       "      <td>09/24/2013</td>\n",
       "      <td>Transfer</td>\n",
       "    </tr>\n",
       "    <tr>\n",
       "      <th>2</th>\n",
       "      <td>A664237</td>\n",
       "      <td>2013-10-01 08:33:00</td>\n",
       "      <td>Stray</td>\n",
       "      <td>Normal</td>\n",
       "      <td>Cat</td>\n",
       "      <td>Unknown</td>\n",
       "      <td>1 week</td>\n",
       "      <td>Domestic Shorthair Mix</td>\n",
       "      <td>Orange/White</td>\n",
       "      <td>1.0</td>\n",
       "      <td>2013-10-01 10:44:00</td>\n",
       "      <td>09/24/2013</td>\n",
       "      <td>Transfer</td>\n",
       "    </tr>\n",
       "    <tr>\n",
       "      <th>3</th>\n",
       "      <td>A664235</td>\n",
       "      <td>2013-10-01 08:33:00</td>\n",
       "      <td>Stray</td>\n",
       "      <td>Normal</td>\n",
       "      <td>Cat</td>\n",
       "      <td>Unknown</td>\n",
       "      <td>1 week</td>\n",
       "      <td>Domestic Shorthair Mix</td>\n",
       "      <td>Orange/White</td>\n",
       "      <td>1.0</td>\n",
       "      <td>2013-10-01 10:39:00</td>\n",
       "      <td>09/24/2013</td>\n",
       "      <td>Transfer</td>\n",
       "    </tr>\n",
       "    <tr>\n",
       "      <th>4</th>\n",
       "      <td>A664233</td>\n",
       "      <td>2013-10-01 08:53:00</td>\n",
       "      <td>Stray</td>\n",
       "      <td>Injured</td>\n",
       "      <td>Dog</td>\n",
       "      <td>Intact Female</td>\n",
       "      <td>3 years</td>\n",
       "      <td>Pit Bull Mix</td>\n",
       "      <td>Blue/White</td>\n",
       "      <td>1.0</td>\n",
       "      <td>2013-10-01 15:33:00</td>\n",
       "      <td>09/30/2010</td>\n",
       "      <td>Euthanasia</td>\n",
       "    </tr>\n",
       "    <tr>\n",
       "      <th>5</th>\n",
       "      <td>A664238</td>\n",
       "      <td>2013-10-01 09:33:00</td>\n",
       "      <td>Stray</td>\n",
       "      <td>Normal</td>\n",
       "      <td>Cat</td>\n",
       "      <td>Unknown</td>\n",
       "      <td>4 months</td>\n",
       "      <td>American Shorthair Mix</td>\n",
       "      <td>Black/White</td>\n",
       "      <td>1.0</td>\n",
       "      <td>2013-10-01 16:47:00</td>\n",
       "      <td>06/01/2013</td>\n",
       "      <td>Euthanasia</td>\n",
       "    </tr>\n",
       "  </tbody>\n",
       "</table>\n",
       "</div>"
      ],
      "text/plain": [
       "  Animal ID         DateTime_in Intake Type Intake Condition Animal Type_in  \\\n",
       "1   A664236 2013-10-01 08:33:00       Stray           Normal            Cat   \n",
       "2   A664237 2013-10-01 08:33:00       Stray           Normal            Cat   \n",
       "3   A664235 2013-10-01 08:33:00       Stray           Normal            Cat   \n",
       "4   A664233 2013-10-01 08:53:00       Stray          Injured            Dog   \n",
       "5   A664238 2013-10-01 09:33:00       Stray           Normal            Cat   \n",
       "\n",
       "  Sex upon Intake Age upon Intake                Breed_in      Color_in  \\\n",
       "1         Unknown          1 week  Domestic Shorthair Mix  Orange/White   \n",
       "2         Unknown          1 week  Domestic Shorthair Mix  Orange/White   \n",
       "3         Unknown          1 week  Domestic Shorthair Mix  Orange/White   \n",
       "4   Intact Female         3 years            Pit Bull Mix    Blue/White   \n",
       "5         Unknown        4 months  American Shorthair Mix   Black/White   \n",
       "\n",
       "   Intake Num        DateTime_out Date of Birth Outcome Type  \n",
       "1         1.0 2013-10-01 10:44:00    09/24/2013     Transfer  \n",
       "2         1.0 2013-10-01 10:44:00    09/24/2013     Transfer  \n",
       "3         1.0 2013-10-01 10:39:00    09/24/2013     Transfer  \n",
       "4         1.0 2013-10-01 15:33:00    09/30/2010   Euthanasia  \n",
       "5         1.0 2013-10-01 16:47:00    06/01/2013   Euthanasia  "
      ]
     },
     "execution_count": 28,
     "metadata": {},
     "output_type": "execute_result"
    }
   ],
   "source": [
    "data.head()"
   ]
  },
  {
   "cell_type": "code",
   "execution_count": 29,
   "metadata": {
    "ExecuteTime": {
     "end_time": "2022-09-20T20:22:09.972844Z",
     "start_time": "2022-09-20T20:22:09.958845Z"
    }
   },
   "outputs": [
    {
     "data": {
      "text/plain": [
       "Adoption      0.556304\n",
       "Transfer      0.347872\n",
       "Euthanasia    0.078525\n",
       "Died          0.011094\n",
       "Disposal      0.005395\n",
       "Missing       0.000591\n",
       "Relocate      0.000194\n",
       "Stolen        0.000017\n",
       "Lost          0.000008\n",
       "Name: Outcome Type, dtype: float64"
      ]
     },
     "execution_count": 29,
     "metadata": {},
     "output_type": "execute_result"
    }
   ],
   "source": [
    "data['Outcome Type'].value_counts(normalize=True)"
   ]
  },
  {
   "cell_type": "code",
   "execution_count": 30,
   "metadata": {
    "ExecuteTime": {
     "end_time": "2022-09-20T20:22:09.988345Z",
     "start_time": "2022-09-20T20:22:09.975845Z"
    },
    "scrolled": false
   },
   "outputs": [],
   "source": [
    "# Creating our target column, which is a binary (was either adopted or not)\n",
    "data['Adopted'] = np.where(data['Outcome Type'] == 'Adoption', 1, 0)"
   ]
  },
  {
   "cell_type": "code",
   "execution_count": 31,
   "metadata": {
    "ExecuteTime": {
     "end_time": "2022-09-20T20:22:10.003844Z",
     "start_time": "2022-09-20T20:22:09.990849Z"
    }
   },
   "outputs": [
    {
     "data": {
      "text/plain": [
       "1    0.556206\n",
       "0    0.443794\n",
       "Name: Adopted, dtype: float64"
      ]
     },
     "execution_count": 31,
     "metadata": {},
     "output_type": "execute_result"
    }
   ],
   "source": [
    "data['Adopted'].value_counts(normalize=True)"
   ]
  },
  {
   "cell_type": "code",
   "execution_count": 32,
   "metadata": {
    "ExecuteTime": {
     "end_time": "2022-09-20T20:22:10.019346Z",
     "start_time": "2022-09-20T20:22:10.006844Z"
    },
    "scrolled": true
   },
   "outputs": [
    {
     "data": {
      "text/html": [
       "<div>\n",
       "<style scoped>\n",
       "    .dataframe tbody tr th:only-of-type {\n",
       "        vertical-align: middle;\n",
       "    }\n",
       "\n",
       "    .dataframe tbody tr th {\n",
       "        vertical-align: top;\n",
       "    }\n",
       "\n",
       "    .dataframe thead th {\n",
       "        text-align: right;\n",
       "    }\n",
       "</style>\n",
       "<table border=\"1\" class=\"dataframe\">\n",
       "  <thead>\n",
       "    <tr style=\"text-align: right;\">\n",
       "      <th></th>\n",
       "      <th>Animal ID</th>\n",
       "      <th>DateTime_in</th>\n",
       "      <th>Intake Type</th>\n",
       "      <th>Intake Condition</th>\n",
       "      <th>Animal Type_in</th>\n",
       "      <th>Sex upon Intake</th>\n",
       "      <th>Age upon Intake</th>\n",
       "      <th>Breed_in</th>\n",
       "      <th>Color_in</th>\n",
       "      <th>Intake Num</th>\n",
       "      <th>DateTime_out</th>\n",
       "      <th>Date of Birth</th>\n",
       "      <th>Outcome Type</th>\n",
       "      <th>Adopted</th>\n",
       "    </tr>\n",
       "  </thead>\n",
       "  <tbody>\n",
       "    <tr>\n",
       "      <th>1</th>\n",
       "      <td>A664236</td>\n",
       "      <td>2013-10-01 08:33:00</td>\n",
       "      <td>Stray</td>\n",
       "      <td>Normal</td>\n",
       "      <td>Cat</td>\n",
       "      <td>Unknown</td>\n",
       "      <td>1 week</td>\n",
       "      <td>Domestic Shorthair Mix</td>\n",
       "      <td>Orange/White</td>\n",
       "      <td>1.0</td>\n",
       "      <td>2013-10-01 10:44:00</td>\n",
       "      <td>09/24/2013</td>\n",
       "      <td>Transfer</td>\n",
       "      <td>0</td>\n",
       "    </tr>\n",
       "    <tr>\n",
       "      <th>2</th>\n",
       "      <td>A664237</td>\n",
       "      <td>2013-10-01 08:33:00</td>\n",
       "      <td>Stray</td>\n",
       "      <td>Normal</td>\n",
       "      <td>Cat</td>\n",
       "      <td>Unknown</td>\n",
       "      <td>1 week</td>\n",
       "      <td>Domestic Shorthair Mix</td>\n",
       "      <td>Orange/White</td>\n",
       "      <td>1.0</td>\n",
       "      <td>2013-10-01 10:44:00</td>\n",
       "      <td>09/24/2013</td>\n",
       "      <td>Transfer</td>\n",
       "      <td>0</td>\n",
       "    </tr>\n",
       "    <tr>\n",
       "      <th>3</th>\n",
       "      <td>A664235</td>\n",
       "      <td>2013-10-01 08:33:00</td>\n",
       "      <td>Stray</td>\n",
       "      <td>Normal</td>\n",
       "      <td>Cat</td>\n",
       "      <td>Unknown</td>\n",
       "      <td>1 week</td>\n",
       "      <td>Domestic Shorthair Mix</td>\n",
       "      <td>Orange/White</td>\n",
       "      <td>1.0</td>\n",
       "      <td>2013-10-01 10:39:00</td>\n",
       "      <td>09/24/2013</td>\n",
       "      <td>Transfer</td>\n",
       "      <td>0</td>\n",
       "    </tr>\n",
       "    <tr>\n",
       "      <th>4</th>\n",
       "      <td>A664233</td>\n",
       "      <td>2013-10-01 08:53:00</td>\n",
       "      <td>Stray</td>\n",
       "      <td>Injured</td>\n",
       "      <td>Dog</td>\n",
       "      <td>Intact Female</td>\n",
       "      <td>3 years</td>\n",
       "      <td>Pit Bull Mix</td>\n",
       "      <td>Blue/White</td>\n",
       "      <td>1.0</td>\n",
       "      <td>2013-10-01 15:33:00</td>\n",
       "      <td>09/30/2010</td>\n",
       "      <td>Euthanasia</td>\n",
       "      <td>0</td>\n",
       "    </tr>\n",
       "    <tr>\n",
       "      <th>5</th>\n",
       "      <td>A664238</td>\n",
       "      <td>2013-10-01 09:33:00</td>\n",
       "      <td>Stray</td>\n",
       "      <td>Normal</td>\n",
       "      <td>Cat</td>\n",
       "      <td>Unknown</td>\n",
       "      <td>4 months</td>\n",
       "      <td>American Shorthair Mix</td>\n",
       "      <td>Black/White</td>\n",
       "      <td>1.0</td>\n",
       "      <td>2013-10-01 16:47:00</td>\n",
       "      <td>06/01/2013</td>\n",
       "      <td>Euthanasia</td>\n",
       "      <td>0</td>\n",
       "    </tr>\n",
       "  </tbody>\n",
       "</table>\n",
       "</div>"
      ],
      "text/plain": [
       "  Animal ID         DateTime_in Intake Type Intake Condition Animal Type_in  \\\n",
       "1   A664236 2013-10-01 08:33:00       Stray           Normal            Cat   \n",
       "2   A664237 2013-10-01 08:33:00       Stray           Normal            Cat   \n",
       "3   A664235 2013-10-01 08:33:00       Stray           Normal            Cat   \n",
       "4   A664233 2013-10-01 08:53:00       Stray          Injured            Dog   \n",
       "5   A664238 2013-10-01 09:33:00       Stray           Normal            Cat   \n",
       "\n",
       "  Sex upon Intake Age upon Intake                Breed_in      Color_in  \\\n",
       "1         Unknown          1 week  Domestic Shorthair Mix  Orange/White   \n",
       "2         Unknown          1 week  Domestic Shorthair Mix  Orange/White   \n",
       "3         Unknown          1 week  Domestic Shorthair Mix  Orange/White   \n",
       "4   Intact Female         3 years            Pit Bull Mix    Blue/White   \n",
       "5         Unknown        4 months  American Shorthair Mix   Black/White   \n",
       "\n",
       "   Intake Num        DateTime_out Date of Birth Outcome Type  Adopted  \n",
       "1         1.0 2013-10-01 10:44:00    09/24/2013     Transfer        0  \n",
       "2         1.0 2013-10-01 10:44:00    09/24/2013     Transfer        0  \n",
       "3         1.0 2013-10-01 10:39:00    09/24/2013     Transfer        0  \n",
       "4         1.0 2013-10-01 15:33:00    09/30/2010   Euthanasia        0  \n",
       "5         1.0 2013-10-01 16:47:00    06/01/2013   Euthanasia        0  "
      ]
     },
     "execution_count": 32,
     "metadata": {},
     "output_type": "execute_result"
    }
   ],
   "source": [
    "data.head()"
   ]
  },
  {
   "cell_type": "markdown",
   "metadata": {},
   "source": [
    "### Exploring Object-Type Columns"
   ]
  },
  {
   "cell_type": "code",
   "execution_count": 33,
   "metadata": {
    "ExecuteTime": {
     "end_time": "2022-09-20T20:22:10.251844Z",
     "start_time": "2022-09-20T20:22:10.020844Z"
    },
    "scrolled": true
   },
   "outputs": [
    {
     "data": {
      "text/html": [
       "<div>\n",
       "<style scoped>\n",
       "    .dataframe tbody tr th:only-of-type {\n",
       "        vertical-align: middle;\n",
       "    }\n",
       "\n",
       "    .dataframe tbody tr th {\n",
       "        vertical-align: top;\n",
       "    }\n",
       "\n",
       "    .dataframe thead th {\n",
       "        text-align: right;\n",
       "    }\n",
       "</style>\n",
       "<table border=\"1\" class=\"dataframe\">\n",
       "  <thead>\n",
       "    <tr style=\"text-align: right;\">\n",
       "      <th></th>\n",
       "      <th>Animal ID</th>\n",
       "      <th>Intake Type</th>\n",
       "      <th>Intake Condition</th>\n",
       "      <th>Animal Type_in</th>\n",
       "      <th>Sex upon Intake</th>\n",
       "      <th>Age upon Intake</th>\n",
       "      <th>Breed_in</th>\n",
       "      <th>Color_in</th>\n",
       "      <th>Date of Birth</th>\n",
       "      <th>Outcome Type</th>\n",
       "    </tr>\n",
       "  </thead>\n",
       "  <tbody>\n",
       "    <tr>\n",
       "      <th>count</th>\n",
       "      <td>118467</td>\n",
       "      <td>118467</td>\n",
       "      <td>118467</td>\n",
       "      <td>118467</td>\n",
       "      <td>118467</td>\n",
       "      <td>118467</td>\n",
       "      <td>118467</td>\n",
       "      <td>118467</td>\n",
       "      <td>118467</td>\n",
       "      <td>118446</td>\n",
       "    </tr>\n",
       "    <tr>\n",
       "      <th>unique</th>\n",
       "      <td>110099</td>\n",
       "      <td>6</td>\n",
       "      <td>16</td>\n",
       "      <td>5</td>\n",
       "      <td>5</td>\n",
       "      <td>50</td>\n",
       "      <td>2497</td>\n",
       "      <td>580</td>\n",
       "      <td>7108</td>\n",
       "      <td>9</td>\n",
       "    </tr>\n",
       "    <tr>\n",
       "      <th>top</th>\n",
       "      <td>A754989</td>\n",
       "      <td>Stray</td>\n",
       "      <td>Normal</td>\n",
       "      <td>Dog</td>\n",
       "      <td>Intact Male</td>\n",
       "      <td>1 year</td>\n",
       "      <td>Domestic Shorthair Mix</td>\n",
       "      <td>Black/White</td>\n",
       "      <td>04/21/2014</td>\n",
       "      <td>Adoption</td>\n",
       "    </tr>\n",
       "    <tr>\n",
       "      <th>freq</th>\n",
       "      <td>8</td>\n",
       "      <td>80961</td>\n",
       "      <td>100364</td>\n",
       "      <td>58681</td>\n",
       "      <td>41079</td>\n",
       "      <td>20040</td>\n",
       "      <td>30965</td>\n",
       "      <td>12335</td>\n",
       "      <td>111</td>\n",
       "      <td>65892</td>\n",
       "    </tr>\n",
       "  </tbody>\n",
       "</table>\n",
       "</div>"
      ],
      "text/plain": [
       "       Animal ID Intake Type Intake Condition Animal Type_in Sex upon Intake  \\\n",
       "count     118467      118467           118467         118467          118467   \n",
       "unique    110099           6               16              5               5   \n",
       "top      A754989       Stray           Normal            Dog     Intact Male   \n",
       "freq           8       80961           100364          58681           41079   \n",
       "\n",
       "       Age upon Intake                Breed_in     Color_in Date of Birth  \\\n",
       "count           118467                  118467       118467        118467   \n",
       "unique              50                    2497          580          7108   \n",
       "top             1 year  Domestic Shorthair Mix  Black/White    04/21/2014   \n",
       "freq             20040                   30965        12335           111   \n",
       "\n",
       "       Outcome Type  \n",
       "count        118446  \n",
       "unique            9  \n",
       "top        Adoption  \n",
       "freq          65892  "
      ]
     },
     "execution_count": 33,
     "metadata": {},
     "output_type": "execute_result"
    }
   ],
   "source": [
    "data.describe(include='O')"
   ]
  },
  {
   "cell_type": "code",
   "execution_count": 34,
   "metadata": {
    "ExecuteTime": {
     "end_time": "2022-09-20T20:22:10.375873Z",
     "start_time": "2022-09-20T20:22:10.253344Z"
    },
    "scrolled": false
   },
   "outputs": [
    {
     "name": "stdout",
     "output_type": "stream",
     "text": [
      "Intake Type\n",
      "Uniques: 6\n",
      "Stray                 80961\n",
      "Owner Surrender       28020\n",
      "Wildlife               5489\n",
      "Public Assist          2975\n",
      "Abandoned               768\n",
      "Euthanasia Request      254\n",
      "Name: Intake Type, dtype: int64\n",
      "********************\n",
      "Intake Condition\n",
      "Uniques: 16\n",
      "Normal      100364\n",
      "Injured       7083\n",
      "Sick          5808\n",
      "Nursing       3770\n",
      "Neonatal       471\n",
      "Aged           284\n",
      "Other          246\n",
      "Medical        168\n",
      "Feral          123\n",
      "Pregnant       102\n",
      "Name: Intake Condition, dtype: int64\n",
      "********************\n",
      "Animal Type_in\n",
      "Uniques: 5\n",
      "Dog          58681\n",
      "Cat          51632\n",
      "Other         7504\n",
      "Bird           630\n",
      "Livestock       20\n",
      "Name: Animal Type_in, dtype: int64\n",
      "********************\n",
      "Sex upon Intake\n",
      "Uniques: 5\n",
      "Intact Male      41079\n",
      "Intact Female    40971\n",
      "Neutered Male    13347\n",
      "Spayed Female    12115\n",
      "Unknown          10955\n",
      "Name: Sex upon Intake, dtype: int64\n",
      "********************\n",
      "Age upon Intake\n",
      "Uniques: 50\n",
      "1 year      20040\n",
      "2 years     17388\n",
      "1 month     14069\n",
      "2 months     7937\n",
      "3 years      5611\n",
      "4 weeks      5176\n",
      "3 weeks      4095\n",
      "3 months     3694\n",
      "4 months     3547\n",
      "5 months     3269\n",
      "Name: Age upon Intake, dtype: int64\n",
      "********************\n",
      "Breed_in\n",
      "Uniques: 2497\n",
      "Domestic Shorthair Mix      30965\n",
      "Domestic Shorthair          11678\n",
      "Pit Bull Mix                 6031\n",
      "Labrador Retriever Mix       5889\n",
      "Chihuahua Shorthair Mix      5006\n",
      "Domestic Medium Hair Mix     3081\n",
      "German Shepherd Mix          2630\n",
      "Bat                          1792\n",
      "Bat Mix                      1744\n",
      "Pit Bull                     1519\n",
      "Name: Breed_in, dtype: int64\n",
      "********************\n",
      "Color_in\n",
      "Uniques: 580\n",
      "Black/White          12335\n",
      "Black                10387\n",
      "Brown Tabby           7905\n",
      "Brown                 5190\n",
      "Brown Tabby/White     4039\n",
      "Orange Tabby          3806\n",
      "White                 3666\n",
      "Brown/White           3470\n",
      "White/Black           3199\n",
      "Tan/White             3171\n",
      "Name: Color_in, dtype: int64\n",
      "********************\n",
      "Date of Birth\n",
      "Uniques: 7108\n",
      "04/21/2014    111\n",
      "05/01/2016    107\n",
      "05/05/2014    107\n",
      "09/01/2015    103\n",
      "04/16/2018    103\n",
      "04/20/2015    100\n",
      "04/15/2016     98\n",
      "04/28/2015     96\n",
      "04/27/2015     90\n",
      "05/01/2019     88\n",
      "Name: Date of Birth, dtype: int64\n",
      "********************\n",
      "Outcome Type\n",
      "Uniques: 9\n",
      "Adoption      65892\n",
      "Transfer      41204\n",
      "Euthanasia     9301\n",
      "Died           1314\n",
      "Disposal        639\n",
      "Missing          70\n",
      "Relocate         23\n",
      "Stolen            2\n",
      "Lost              1\n",
      "Name: Outcome Type, dtype: int64\n",
      "********************\n"
     ]
    }
   ],
   "source": [
    "# Getting a list of object-type columns\n",
    "obj_cols = [c for c in data.columns if data[c].dtype == 'O']\n",
    "\n",
    "# Looping over object-type columns (except Animal ID)\n",
    "# Checking out the top 10 of the value counts\n",
    "for col in obj_cols[1:]:\n",
    "    print(col)\n",
    "    print(f\"Uniques: {len(data[col].value_counts())}\")\n",
    "    print(data[col].value_counts().head(10))\n",
    "    print(\"*\"*20)"
   ]
  },
  {
   "cell_type": "markdown",
   "metadata": {},
   "source": [
    "### Feature Engineering!"
   ]
  },
  {
   "cell_type": "code",
   "execution_count": 35,
   "metadata": {
    "ExecuteTime": {
     "end_time": "2022-09-20T20:22:10.623891Z",
     "start_time": "2022-09-20T20:22:10.377344Z"
    }
   },
   "outputs": [],
   "source": [
    "# Creating Age in Days from date of birth\n",
    "data['Age in Days'] = (pd.Timestamp.today().date() - pd.to_datetime(data['Date of Birth']).dt.date).dt.days"
   ]
  },
  {
   "cell_type": "code",
   "execution_count": 36,
   "metadata": {
    "ExecuteTime": {
     "end_time": "2022-09-20T20:22:10.701420Z",
     "start_time": "2022-09-20T20:22:10.625394Z"
    }
   },
   "outputs": [],
   "source": [
    "# Creating an indicator for black animals (notoriously under-adopted)\n",
    "data['Color_black'] = data['Color_in'].str.lower().str.contains('black')"
   ]
  },
  {
   "cell_type": "code",
   "execution_count": 37,
   "metadata": {
    "ExecuteTime": {
     "end_time": "2022-09-20T20:22:10.732391Z",
     "start_time": "2022-09-20T20:22:10.702891Z"
    }
   },
   "outputs": [],
   "source": [
    "# Creating a 'fixed' col for animals that come in fixed\n",
    "data['Fixed'] = np.where(\n",
    "    (data['Sex upon Intake'] == 'Neutered Male') | (data['Sex upon Intake'] == 'Spayed Female'), True, False)"
   ]
  },
  {
   "cell_type": "code",
   "execution_count": 38,
   "metadata": {
    "ExecuteTime": {
     "end_time": "2022-09-20T20:22:10.763391Z",
     "start_time": "2022-09-20T20:22:10.733891Z"
    }
   },
   "outputs": [],
   "source": [
    "# Mainly looking at dogs and cats - rest will be 'Other'\n",
    "data['Animal Type_in'] = data['Animal Type_in'].replace({'Bird': 'Other', 'Livestock': 'Other'})"
   ]
  },
  {
   "cell_type": "code",
   "execution_count": 39,
   "metadata": {
    "ExecuteTime": {
     "end_time": "2022-09-20T20:22:10.794391Z",
     "start_time": "2022-09-20T20:22:10.764891Z"
    }
   },
   "outputs": [],
   "source": [
    "# Creating Type_Cat and Type_Dog columns\n",
    "data['Type_Cat'] = data['Animal Type_in'] == 'Cat'\n",
    "data['Type_Dog'] = data['Animal Type_in'] == 'Dog'"
   ]
  },
  {
   "cell_type": "code",
   "execution_count": 40,
   "metadata": {
    "ExecuteTime": {
     "end_time": "2022-09-20T20:22:10.809891Z",
     "start_time": "2022-09-20T20:22:10.795891Z"
    }
   },
   "outputs": [],
   "source": [
    "# Finding not-normal intake conditions\n",
    "data['Intake Condition_Not Normal'] = data['Intake Condition'] != 'Normal'"
   ]
  },
  {
   "cell_type": "code",
   "execution_count": 41,
   "metadata": {
    "ExecuteTime": {
     "end_time": "2022-09-20T20:22:10.856392Z",
     "start_time": "2022-09-20T20:22:10.811891Z"
    }
   },
   "outputs": [],
   "source": [
    "# Creating a 'female' indicator\n",
    "data['Female'] = data['Sex upon Intake'].str.contains(\"Female\")"
   ]
  },
  {
   "cell_type": "code",
   "execution_count": 42,
   "metadata": {
    "ExecuteTime": {
     "end_time": "2022-09-20T20:22:10.871891Z",
     "start_time": "2022-09-20T20:22:10.857891Z"
    }
   },
   "outputs": [],
   "source": [
    "# Simplifying the age in days column to extract animals < 1yo\n",
    "data['Young'] = data['Age in Days'] < 365"
   ]
  },
  {
   "cell_type": "code",
   "execution_count": 43,
   "metadata": {
    "ExecuteTime": {
     "end_time": "2022-09-20T20:22:10.902891Z",
     "start_time": "2022-09-20T20:22:10.873891Z"
    },
    "scrolled": true
   },
   "outputs": [
    {
     "data": {
      "text/html": [
       "<div>\n",
       "<style scoped>\n",
       "    .dataframe tbody tr th:only-of-type {\n",
       "        vertical-align: middle;\n",
       "    }\n",
       "\n",
       "    .dataframe tbody tr th {\n",
       "        vertical-align: top;\n",
       "    }\n",
       "\n",
       "    .dataframe thead th {\n",
       "        text-align: right;\n",
       "    }\n",
       "</style>\n",
       "<table border=\"1\" class=\"dataframe\">\n",
       "  <thead>\n",
       "    <tr style=\"text-align: right;\">\n",
       "      <th></th>\n",
       "      <th>Animal ID</th>\n",
       "      <th>DateTime_in</th>\n",
       "      <th>Intake Type</th>\n",
       "      <th>Intake Condition</th>\n",
       "      <th>Animal Type_in</th>\n",
       "      <th>Sex upon Intake</th>\n",
       "      <th>Age upon Intake</th>\n",
       "      <th>Breed_in</th>\n",
       "      <th>Color_in</th>\n",
       "      <th>Intake Num</th>\n",
       "      <th>DateTime_out</th>\n",
       "      <th>Date of Birth</th>\n",
       "      <th>Outcome Type</th>\n",
       "      <th>Adopted</th>\n",
       "      <th>Age in Days</th>\n",
       "      <th>Color_black</th>\n",
       "      <th>Fixed</th>\n",
       "      <th>Type_Cat</th>\n",
       "      <th>Type_Dog</th>\n",
       "      <th>Intake Condition_Not Normal</th>\n",
       "      <th>Female</th>\n",
       "      <th>Young</th>\n",
       "    </tr>\n",
       "  </thead>\n",
       "  <tbody>\n",
       "    <tr>\n",
       "      <th>1</th>\n",
       "      <td>A664236</td>\n",
       "      <td>2013-10-01 08:33:00</td>\n",
       "      <td>Stray</td>\n",
       "      <td>Normal</td>\n",
       "      <td>Cat</td>\n",
       "      <td>Unknown</td>\n",
       "      <td>1 week</td>\n",
       "      <td>Domestic Shorthair Mix</td>\n",
       "      <td>Orange/White</td>\n",
       "      <td>1.0</td>\n",
       "      <td>2013-10-01 10:44:00</td>\n",
       "      <td>09/24/2013</td>\n",
       "      <td>Transfer</td>\n",
       "      <td>0</td>\n",
       "      <td>3283</td>\n",
       "      <td>False</td>\n",
       "      <td>False</td>\n",
       "      <td>True</td>\n",
       "      <td>False</td>\n",
       "      <td>False</td>\n",
       "      <td>False</td>\n",
       "      <td>False</td>\n",
       "    </tr>\n",
       "    <tr>\n",
       "      <th>2</th>\n",
       "      <td>A664237</td>\n",
       "      <td>2013-10-01 08:33:00</td>\n",
       "      <td>Stray</td>\n",
       "      <td>Normal</td>\n",
       "      <td>Cat</td>\n",
       "      <td>Unknown</td>\n",
       "      <td>1 week</td>\n",
       "      <td>Domestic Shorthair Mix</td>\n",
       "      <td>Orange/White</td>\n",
       "      <td>1.0</td>\n",
       "      <td>2013-10-01 10:44:00</td>\n",
       "      <td>09/24/2013</td>\n",
       "      <td>Transfer</td>\n",
       "      <td>0</td>\n",
       "      <td>3283</td>\n",
       "      <td>False</td>\n",
       "      <td>False</td>\n",
       "      <td>True</td>\n",
       "      <td>False</td>\n",
       "      <td>False</td>\n",
       "      <td>False</td>\n",
       "      <td>False</td>\n",
       "    </tr>\n",
       "    <tr>\n",
       "      <th>3</th>\n",
       "      <td>A664235</td>\n",
       "      <td>2013-10-01 08:33:00</td>\n",
       "      <td>Stray</td>\n",
       "      <td>Normal</td>\n",
       "      <td>Cat</td>\n",
       "      <td>Unknown</td>\n",
       "      <td>1 week</td>\n",
       "      <td>Domestic Shorthair Mix</td>\n",
       "      <td>Orange/White</td>\n",
       "      <td>1.0</td>\n",
       "      <td>2013-10-01 10:39:00</td>\n",
       "      <td>09/24/2013</td>\n",
       "      <td>Transfer</td>\n",
       "      <td>0</td>\n",
       "      <td>3283</td>\n",
       "      <td>False</td>\n",
       "      <td>False</td>\n",
       "      <td>True</td>\n",
       "      <td>False</td>\n",
       "      <td>False</td>\n",
       "      <td>False</td>\n",
       "      <td>False</td>\n",
       "    </tr>\n",
       "    <tr>\n",
       "      <th>4</th>\n",
       "      <td>A664233</td>\n",
       "      <td>2013-10-01 08:53:00</td>\n",
       "      <td>Stray</td>\n",
       "      <td>Injured</td>\n",
       "      <td>Dog</td>\n",
       "      <td>Intact Female</td>\n",
       "      <td>3 years</td>\n",
       "      <td>Pit Bull Mix</td>\n",
       "      <td>Blue/White</td>\n",
       "      <td>1.0</td>\n",
       "      <td>2013-10-01 15:33:00</td>\n",
       "      <td>09/30/2010</td>\n",
       "      <td>Euthanasia</td>\n",
       "      <td>0</td>\n",
       "      <td>4373</td>\n",
       "      <td>False</td>\n",
       "      <td>False</td>\n",
       "      <td>False</td>\n",
       "      <td>True</td>\n",
       "      <td>True</td>\n",
       "      <td>True</td>\n",
       "      <td>False</td>\n",
       "    </tr>\n",
       "    <tr>\n",
       "      <th>5</th>\n",
       "      <td>A664238</td>\n",
       "      <td>2013-10-01 09:33:00</td>\n",
       "      <td>Stray</td>\n",
       "      <td>Normal</td>\n",
       "      <td>Cat</td>\n",
       "      <td>Unknown</td>\n",
       "      <td>4 months</td>\n",
       "      <td>American Shorthair Mix</td>\n",
       "      <td>Black/White</td>\n",
       "      <td>1.0</td>\n",
       "      <td>2013-10-01 16:47:00</td>\n",
       "      <td>06/01/2013</td>\n",
       "      <td>Euthanasia</td>\n",
       "      <td>0</td>\n",
       "      <td>3398</td>\n",
       "      <td>True</td>\n",
       "      <td>False</td>\n",
       "      <td>True</td>\n",
       "      <td>False</td>\n",
       "      <td>False</td>\n",
       "      <td>False</td>\n",
       "      <td>False</td>\n",
       "    </tr>\n",
       "  </tbody>\n",
       "</table>\n",
       "</div>"
      ],
      "text/plain": [
       "  Animal ID         DateTime_in Intake Type Intake Condition Animal Type_in  \\\n",
       "1   A664236 2013-10-01 08:33:00       Stray           Normal            Cat   \n",
       "2   A664237 2013-10-01 08:33:00       Stray           Normal            Cat   \n",
       "3   A664235 2013-10-01 08:33:00       Stray           Normal            Cat   \n",
       "4   A664233 2013-10-01 08:53:00       Stray          Injured            Dog   \n",
       "5   A664238 2013-10-01 09:33:00       Stray           Normal            Cat   \n",
       "\n",
       "  Sex upon Intake Age upon Intake                Breed_in      Color_in  \\\n",
       "1         Unknown          1 week  Domestic Shorthair Mix  Orange/White   \n",
       "2         Unknown          1 week  Domestic Shorthair Mix  Orange/White   \n",
       "3         Unknown          1 week  Domestic Shorthair Mix  Orange/White   \n",
       "4   Intact Female         3 years            Pit Bull Mix    Blue/White   \n",
       "5         Unknown        4 months  American Shorthair Mix   Black/White   \n",
       "\n",
       "   Intake Num        DateTime_out Date of Birth Outcome Type  Adopted  \\\n",
       "1         1.0 2013-10-01 10:44:00    09/24/2013     Transfer        0   \n",
       "2         1.0 2013-10-01 10:44:00    09/24/2013     Transfer        0   \n",
       "3         1.0 2013-10-01 10:39:00    09/24/2013     Transfer        0   \n",
       "4         1.0 2013-10-01 15:33:00    09/30/2010   Euthanasia        0   \n",
       "5         1.0 2013-10-01 16:47:00    06/01/2013   Euthanasia        0   \n",
       "\n",
       "   Age in Days  Color_black  Fixed  Type_Cat  Type_Dog  \\\n",
       "1         3283        False  False      True     False   \n",
       "2         3283        False  False      True     False   \n",
       "3         3283        False  False      True     False   \n",
       "4         4373        False  False     False      True   \n",
       "5         3398         True  False      True     False   \n",
       "\n",
       "   Intake Condition_Not Normal  Female  Young  \n",
       "1                        False   False  False  \n",
       "2                        False   False  False  \n",
       "3                        False   False  False  \n",
       "4                         True    True  False  \n",
       "5                        False   False  False  "
      ]
     },
     "execution_count": 43,
     "metadata": {},
     "output_type": "execute_result"
    }
   ],
   "source": [
    "data.head()"
   ]
  },
  {
   "cell_type": "markdown",
   "metadata": {},
   "source": [
    "# Modeling"
   ]
  },
  {
   "cell_type": "code",
   "execution_count": 44,
   "metadata": {
    "ExecuteTime": {
     "end_time": "2022-09-20T20:22:10.918390Z",
     "start_time": "2022-09-20T20:22:10.904891Z"
    }
   },
   "outputs": [],
   "source": [
    "# Defining our used calls - all indicator boolean columns!\n",
    "used_cols = ['Color_black', 'Fixed', 'Type_Cat', 'Type_Dog', \n",
    "             'Intake Condition_Not Normal', 'Female', 'Young']"
   ]
  },
  {
   "cell_type": "code",
   "execution_count": 45,
   "metadata": {
    "ExecuteTime": {
     "end_time": "2022-09-20T20:22:10.949391Z",
     "start_time": "2022-09-20T20:22:10.919891Z"
    }
   },
   "outputs": [],
   "source": [
    "X = data[used_cols]\n",
    "y = data['Adopted']"
   ]
  },
  {
   "cell_type": "code",
   "execution_count": 46,
   "metadata": {
    "ExecuteTime": {
     "end_time": "2022-09-20T20:22:10.964892Z",
     "start_time": "2022-09-20T20:22:10.951390Z"
    }
   },
   "outputs": [
    {
     "data": {
      "text/html": [
       "<div>\n",
       "<style scoped>\n",
       "    .dataframe tbody tr th:only-of-type {\n",
       "        vertical-align: middle;\n",
       "    }\n",
       "\n",
       "    .dataframe tbody tr th {\n",
       "        vertical-align: top;\n",
       "    }\n",
       "\n",
       "    .dataframe thead th {\n",
       "        text-align: right;\n",
       "    }\n",
       "</style>\n",
       "<table border=\"1\" class=\"dataframe\">\n",
       "  <thead>\n",
       "    <tr style=\"text-align: right;\">\n",
       "      <th></th>\n",
       "      <th>Color_black</th>\n",
       "      <th>Fixed</th>\n",
       "      <th>Type_Cat</th>\n",
       "      <th>Type_Dog</th>\n",
       "      <th>Intake Condition_Not Normal</th>\n",
       "      <th>Female</th>\n",
       "      <th>Young</th>\n",
       "    </tr>\n",
       "  </thead>\n",
       "  <tbody>\n",
       "    <tr>\n",
       "      <th>1</th>\n",
       "      <td>False</td>\n",
       "      <td>False</td>\n",
       "      <td>True</td>\n",
       "      <td>False</td>\n",
       "      <td>False</td>\n",
       "      <td>False</td>\n",
       "      <td>False</td>\n",
       "    </tr>\n",
       "    <tr>\n",
       "      <th>2</th>\n",
       "      <td>False</td>\n",
       "      <td>False</td>\n",
       "      <td>True</td>\n",
       "      <td>False</td>\n",
       "      <td>False</td>\n",
       "      <td>False</td>\n",
       "      <td>False</td>\n",
       "    </tr>\n",
       "    <tr>\n",
       "      <th>3</th>\n",
       "      <td>False</td>\n",
       "      <td>False</td>\n",
       "      <td>True</td>\n",
       "      <td>False</td>\n",
       "      <td>False</td>\n",
       "      <td>False</td>\n",
       "      <td>False</td>\n",
       "    </tr>\n",
       "    <tr>\n",
       "      <th>4</th>\n",
       "      <td>False</td>\n",
       "      <td>False</td>\n",
       "      <td>False</td>\n",
       "      <td>True</td>\n",
       "      <td>True</td>\n",
       "      <td>True</td>\n",
       "      <td>False</td>\n",
       "    </tr>\n",
       "    <tr>\n",
       "      <th>5</th>\n",
       "      <td>True</td>\n",
       "      <td>False</td>\n",
       "      <td>True</td>\n",
       "      <td>False</td>\n",
       "      <td>False</td>\n",
       "      <td>False</td>\n",
       "      <td>False</td>\n",
       "    </tr>\n",
       "  </tbody>\n",
       "</table>\n",
       "</div>"
      ],
      "text/plain": [
       "   Color_black  Fixed  Type_Cat  Type_Dog  Intake Condition_Not Normal  \\\n",
       "1        False  False      True     False                        False   \n",
       "2        False  False      True     False                        False   \n",
       "3        False  False      True     False                        False   \n",
       "4        False  False     False      True                         True   \n",
       "5         True  False      True     False                        False   \n",
       "\n",
       "   Female  Young  \n",
       "1   False  False  \n",
       "2   False  False  \n",
       "3   False  False  \n",
       "4    True  False  \n",
       "5   False  False  "
      ]
     },
     "execution_count": 46,
     "metadata": {},
     "output_type": "execute_result"
    }
   ],
   "source": [
    "X.head()"
   ]
  },
  {
   "cell_type": "code",
   "execution_count": 47,
   "metadata": {
    "ExecuteTime": {
     "end_time": "2022-09-20T20:22:10.980390Z",
     "start_time": "2022-09-20T20:22:10.966891Z"
    }
   },
   "outputs": [],
   "source": [
    "X_train, X_test, y_train, y_test = train_test_split(\n",
    "    X, y, test_size=0.25, random_state=84)"
   ]
  },
  {
   "cell_type": "markdown",
   "metadata": {},
   "source": [
    "## Model-Less Baseline"
   ]
  },
  {
   "cell_type": "code",
   "execution_count": 48,
   "metadata": {
    "ExecuteTime": {
     "end_time": "2022-09-20T20:22:10.995891Z",
     "start_time": "2022-09-20T20:22:10.981891Z"
    },
    "scrolled": true
   },
   "outputs": [
    {
     "data": {
      "text/plain": [
       "1    0.556995\n",
       "0    0.443005\n",
       "Name: Adopted, dtype: float64"
      ]
     },
     "execution_count": 48,
     "metadata": {},
     "output_type": "execute_result"
    }
   ],
   "source": [
    "y_train.value_counts(normalize=True)"
   ]
  },
  {
   "cell_type": "markdown",
   "metadata": {},
   "source": [
    "## Logistic Regression"
   ]
  },
  {
   "cell_type": "code",
   "execution_count": 49,
   "metadata": {
    "ExecuteTime": {
     "end_time": "2022-09-20T20:22:11.119890Z",
     "start_time": "2022-09-20T20:22:10.997391Z"
    }
   },
   "outputs": [
    {
     "data": {
      "text/plain": [
       "0.6497467642093416"
      ]
     },
     "execution_count": 49,
     "metadata": {},
     "output_type": "execute_result"
    }
   ],
   "source": [
    "logreg = LogisticRegression()\n",
    "\n",
    "logreg.fit(X_train, y_train)\n",
    "\n",
    "logreg.score(X_train, y_train)"
   ]
  },
  {
   "cell_type": "code",
   "execution_count": 50,
   "metadata": {
    "ExecuteTime": {
     "end_time": "2022-09-20T20:22:11.352390Z",
     "start_time": "2022-09-20T20:22:11.122892Z"
    }
   },
   "outputs": [
    {
     "name": "stdout",
     "output_type": "stream",
     "text": [
      "Test Acc: 0.6473984535908431\n",
      "Test F1: 0.7399457130761761\n",
      "Test ROCAUC: 0.6770516895279386\n"
     ]
    },
    {
     "name": "stderr",
     "output_type": "stream",
     "text": [
      "C:\\Users\\david\\AppData\\Roaming\\Python\\Python39\\site-packages\\sklearn\\utils\\deprecation.py:87: FutureWarning: Function plot_confusion_matrix is deprecated; Function `plot_confusion_matrix` is deprecated in 1.0 and will be removed in 1.2. Use one of the class methods: ConfusionMatrixDisplay.from_predictions or ConfusionMatrixDisplay.from_estimator.\n",
      "  warnings.warn(msg, category=FutureWarning)\n"
     ]
    },
    {
     "data": {
      "image/png": "[encoded data removed]",
      "text/plain": [
       "<Figure size 432x288 with 2 Axes>"
      ]
     },
     "metadata": {
      "needs_background": "light"
     },
     "output_type": "display_data"
    }
   ],
   "source": [
    "test_preds = logreg.predict(X_test)\n",
    "test_probas = logreg.predict_proba(X_test)[:,1]\n",
    "\n",
    "print(f\"Test Acc: {logreg.score(X_test, y_test)}\")\n",
    "print(f\"Test F1: {f1_score(y_test, test_preds)}\")\n",
    "print(f\"Test ROCAUC: {roc_auc_score(y_test, test_probas)}\")\n",
    "\n",
    "plot_confusion_matrix(logreg, X_test, y_test);"
   ]
  },
  {
   "cell_type": "code",
   "execution_count": 51,
   "metadata": {
    "ExecuteTime": {
     "end_time": "2022-09-20T20:22:11.476391Z",
     "start_time": "2022-09-20T20:22:11.353891Z"
    }
   },
   "outputs": [
    {
     "data": {
      "image/png": "[encoded data removed]",
      "text/plain": [
       "<Figure size 432x288 with 2 Axes>"
      ]
     },
     "metadata": {
      "needs_background": "light"
     },
     "output_type": "display_data"
    }
   ],
   "source": [
    "ConfusionMatrixDisplay.from_estimator(logreg, X_test, y_test, display_labels=['Not Adopted','Adopted']);"
   ]
  },
  {
   "cell_type": "code",
   "execution_count": 52,
   "metadata": {
    "ExecuteTime": {
     "end_time": "2022-09-20T20:22:11.600390Z",
     "start_time": "2022-09-20T20:22:11.477891Z"
    }
   },
   "outputs": [
    {
     "data": {
      "text/plain": [
       "<sklearn.metrics._plot.confusion_matrix.ConfusionMatrixDisplay at 0x1c55b40c7c0>"
      ]
     },
     "execution_count": 52,
     "metadata": {},
     "output_type": "execute_result"
    },
    {
     "data": {
      "image/png": "[encoded data removed]",
      "text/plain": [
       "<Figure size 432x288 with 2 Axes>"
      ]
     },
     "metadata": {
      "needs_background": "light"
     },
     "output_type": "display_data"
    }
   ],
   "source": [
    "ConfusionMatrixDisplay.from_predictions(y_test, test_preds, display_labels=['Not Adopted','Adopted'])"
   ]
  },
  {
   "cell_type": "code",
   "execution_count": null,
   "metadata": {},
   "outputs": [],
   "source": []
  },
  {
   "cell_type": "markdown",
   "metadata": {},
   "source": [
    "## Decision Tree"
   ]
  },
  {
   "cell_type": "code",
   "execution_count": 53,
   "metadata": {
    "ExecuteTime": {
     "end_time": "2022-09-20T20:22:11.662391Z",
     "start_time": "2022-09-20T20:22:11.602891Z"
    }
   },
   "outputs": [
    {
     "data": {
      "text/plain": [
       "0.6513337084974676"
      ]
     },
     "execution_count": 53,
     "metadata": {},
     "output_type": "execute_result"
    }
   ],
   "source": [
    "tree = DecisionTreeClassifier(max_depth=5)\n",
    "\n",
    "tree.fit(X_train, y_train)\n",
    "\n",
    "tree.score(X_train, y_train)"
   ]
  },
  {
   "cell_type": "code",
   "execution_count": 54,
   "metadata": {
    "ExecuteTime": {
     "end_time": "2022-09-20T20:22:11.801891Z",
     "start_time": "2022-09-20T20:22:11.663891Z"
    }
   },
   "outputs": [
    {
     "name": "stdout",
     "output_type": "stream",
     "text": [
      "Test Acc: 0.6487827936658\n",
      "Test F1: 0.741937084449737\n",
      "Test ROCAUC: 0.6792034871337634\n"
     ]
    },
    {
     "name": "stderr",
     "output_type": "stream",
     "text": [
      "C:\\Users\\david\\AppData\\Roaming\\Python\\Python39\\site-packages\\sklearn\\utils\\deprecation.py:87: FutureWarning: Function plot_confusion_matrix is deprecated; Function `plot_confusion_matrix` is deprecated in 1.0 and will be removed in 1.2. Use one of the class methods: ConfusionMatrixDisplay.from_predictions or ConfusionMatrixDisplay.from_estimator.\n",
      "  warnings.warn(msg, category=FutureWarning)\n"
     ]
    },
    {
     "data": {
      "image/png": "[encoded data removed]",
      "text/plain": [
       "<Figure size 432x288 with 2 Axes>"
      ]
     },
     "metadata": {
      "needs_background": "light"
     },
     "output_type": "display_data"
    }
   ],
   "source": [
    "test_preds = tree.predict(X_test)\n",
    "test_probas = tree.predict_proba(X_test)[:,1]\n",
    "\n",
    "print(f\"Test Acc: {tree.score(X_test, y_test)}\")\n",
    "print(f\"Test F1: {f1_score(y_test, test_preds)}\")\n",
    "print(f\"Test ROCAUC: {roc_auc_score(y_test, test_probas)}\")\n",
    "\n",
    "plot_confusion_matrix(tree, X_test, y_test);"
   ]
  },
  {
   "cell_type": "markdown",
   "metadata": {},
   "source": [
    "## Random Forest"
   ]
  },
  {
   "cell_type": "code",
   "execution_count": 55,
   "metadata": {
    "ExecuteTime": {
     "end_time": "2022-09-20T20:22:13.785891Z",
     "start_time": "2022-09-20T20:22:11.803921Z"
    }
   },
   "outputs": [
    {
     "data": {
      "text/plain": [
       "0.6561845807540799"
      ]
     },
     "execution_count": 55,
     "metadata": {},
     "output_type": "execute_result"
    }
   ],
   "source": [
    "rf = RandomForestClassifier(max_depth=5)\n",
    "\n",
    "rf.fit(X_train, y_train)\n",
    "\n",
    "rf.score(X_train, y_train)"
   ]
  },
  {
   "cell_type": "code",
   "execution_count": 56,
   "metadata": {
    "ExecuteTime": {
     "end_time": "2022-09-20T20:22:14.607391Z",
     "start_time": "2022-09-20T20:22:13.787390Z"
    },
    "scrolled": false
   },
   "outputs": [
    {
     "name": "stdout",
     "output_type": "stream",
     "text": [
      "Test Acc: 0.6510787723267043\n",
      "Test F1: 0.7118880339020855\n",
      "Test ROCAUC: 0.6805944377881608\n"
     ]
    },
    {
     "name": "stderr",
     "output_type": "stream",
     "text": [
      "C:\\Users\\david\\AppData\\Roaming\\Python\\Python39\\site-packages\\sklearn\\utils\\deprecation.py:87: FutureWarning: Function plot_confusion_matrix is deprecated; Function `plot_confusion_matrix` is deprecated in 1.0 and will be removed in 1.2. Use one of the class methods: ConfusionMatrixDisplay.from_predictions or ConfusionMatrixDisplay.from_estimator.\n",
      "  warnings.warn(msg, category=FutureWarning)\n"
     ]
    },
    {
     "data": {
      "image/png": "[encoded data removed]",
      "text/plain": [
       "<Figure size 432x288 with 2 Axes>"
      ]
     },
     "metadata": {
      "needs_background": "light"
     },
     "output_type": "display_data"
    }
   ],
   "source": [
    "test_preds = rf.predict(X_test)\n",
    "test_probas = rf.predict_proba(X_test)[:,1]\n",
    "\n",
    "print(f\"Test Acc: {rf.score(X_test, y_test)}\")\n",
    "print(f\"Test F1: {f1_score(y_test, test_preds)}\")\n",
    "print(f\"Test ROCAUC: {roc_auc_score(y_test, test_probas)}\")\n",
    "\n",
    "plot_confusion_matrix(rf, X_test, y_test);"
   ]
  },
  {
   "cell_type": "markdown",
   "metadata": {},
   "source": [
    "We'd prefer to false negatives over false positives: would rather an animal be predicted to not be adopted, but actually is, rather than one that's predicted to be adopted but isn't.\n",
    "\n",
    "Because of that, and a marginally higher ROC-AUC score, we'll choose our (mostly untuned and could definitely be improved) Random Forest model to pickle and deploy."
   ]
  },
  {
   "cell_type": "markdown",
   "metadata": {},
   "source": [
    "# Save Model for Deployment"
   ]
  },
  {
   "cell_type": "code",
   "execution_count": 58,
   "metadata": {
    "ExecuteTime": {
     "end_time": "2022-09-20T20:22:25.901508Z",
     "start_time": "2022-09-20T20:22:25.894004Z"
    }
   },
   "outputs": [],
   "source": [
    "# New library!\n",
    "import pickle"
   ]
  },
  {
   "cell_type": "code",
   "execution_count": 59,
   "metadata": {
    "ExecuteTime": {
     "end_time": "2022-09-20T20:22:26.242503Z",
     "start_time": "2022-09-20T20:22:26.228504Z"
    }
   },
   "outputs": [],
   "source": [
    "# To save our model as a .sav file, use this code\n",
    "# Note that rf is the variable of our model to save\n",
    "pickle.dump(rf, open(\"rf_model.sav\", 'wb'))"
   ]
  },
  {
   "cell_type": "code",
   "execution_count": 60,
   "metadata": {
    "ExecuteTime": {
     "end_time": "2022-09-20T20:22:26.769503Z",
     "start_time": "2022-09-20T20:22:26.756004Z"
    }
   },
   "outputs": [],
   "source": [
    "# Test that out, too!\n",
    "# Loading up the model from the .sav file\n",
    "loaded_model = pickle.load(open(\"rf_model.sav\", 'rb'))"
   ]
  },
  {
   "cell_type": "code",
   "execution_count": 61,
   "metadata": {
    "ExecuteTime": {
     "end_time": "2022-09-20T20:22:27.451503Z",
     "start_time": "2022-09-20T20:22:27.267003Z"
    },
    "scrolled": true
   },
   "outputs": [
    {
     "data": {
      "text/plain": [
       "0.6510787723267043"
      ]
     },
     "execution_count": 61,
     "metadata": {},
     "output_type": "execute_result"
    }
   ],
   "source": [
    "rf.score(X_test, y_test)"
   ]
  },
  {
   "cell_type": "code",
   "execution_count": 62,
   "metadata": {
    "ExecuteTime": {
     "end_time": "2022-09-20T20:22:28.164529Z",
     "start_time": "2022-09-20T20:22:27.979504Z"
    },
    "scrolled": true
   },
   "outputs": [
    {
     "data": {
      "text/plain": [
       "0.6510787723267043"
      ]
     },
     "execution_count": 62,
     "metadata": {},
     "output_type": "execute_result"
    }
   ],
   "source": [
    "# We can see it's the same as above\n",
    "loaded_model.score(X_test, y_test)"
   ]
  },
  {
   "cell_type": "markdown",
   "metadata": {},
   "source": [
    "### Testing On a New Input\n",
    "\n",
    "(aka what we'll need in our streamlit app!)"
   ]
  },
  {
   "cell_type": "code",
   "execution_count": 63,
   "metadata": {
    "ExecuteTime": {
     "end_time": "2022-09-20T20:22:28.676032Z",
     "start_time": "2022-09-20T20:22:28.662004Z"
    }
   },
   "outputs": [
    {
     "name": "stdout",
     "output_type": "stream",
     "text": [
      "['Color_black', 'Fixed', 'Type_Cat', 'Type_Dog', 'Intake Condition_Not Normal', 'Female', 'Young']\n"
     ]
    }
   ],
   "source": [
    "# We'll need to copy this over to streamlit\n",
    "print(used_cols)"
   ]
  },
  {
   "cell_type": "code",
   "execution_count": 64,
   "metadata": {
    "ExecuteTime": {
     "end_time": "2022-09-20T20:22:29.234003Z",
     "start_time": "2022-09-20T20:22:29.220003Z"
    }
   },
   "outputs": [
    {
     "data": {
      "text/html": [
       "<div>\n",
       "<style scoped>\n",
       "    .dataframe tbody tr th:only-of-type {\n",
       "        vertical-align: middle;\n",
       "    }\n",
       "\n",
       "    .dataframe tbody tr th {\n",
       "        vertical-align: top;\n",
       "    }\n",
       "\n",
       "    .dataframe thead th {\n",
       "        text-align: right;\n",
       "    }\n",
       "</style>\n",
       "<table border=\"1\" class=\"dataframe\">\n",
       "  <thead>\n",
       "    <tr style=\"text-align: right;\">\n",
       "      <th></th>\n",
       "      <th>Color_black</th>\n",
       "      <th>Fixed</th>\n",
       "      <th>Type_Cat</th>\n",
       "      <th>Type_Dog</th>\n",
       "      <th>Intake Condition_Not Normal</th>\n",
       "      <th>Female</th>\n",
       "      <th>Young</th>\n",
       "    </tr>\n",
       "  </thead>\n",
       "  <tbody>\n",
       "    <tr>\n",
       "      <th>84048</th>\n",
       "      <td>False</td>\n",
       "      <td>True</td>\n",
       "      <td>True</td>\n",
       "      <td>False</td>\n",
       "      <td>False</td>\n",
       "      <td>False</td>\n",
       "      <td>False</td>\n",
       "    </tr>\n",
       "  </tbody>\n",
       "</table>\n",
       "</div>"
      ],
      "text/plain": [
       "       Color_black  Fixed  Type_Cat  Type_Dog  Intake Condition_Not Normal  \\\n",
       "84048        False   True      True     False                        False   \n",
       "\n",
       "       Female  Young  \n",
       "84048   False  False  "
      ]
     },
     "execution_count": 64,
     "metadata": {},
     "output_type": "execute_result"
    }
   ],
   "source": [
    "# We want a new intake to look like this\n",
    "X_test[:1]"
   ]
  },
  {
   "cell_type": "code",
   "execution_count": 65,
   "metadata": {
    "ExecuteTime": {
     "end_time": "2022-09-20T20:22:29.745504Z",
     "start_time": "2022-09-20T20:22:29.731503Z"
    }
   },
   "outputs": [
    {
     "data": {
      "text/plain": [
       "Color_black                    bool\n",
       "Fixed                          bool\n",
       "Type_Cat                       bool\n",
       "Type_Dog                       bool\n",
       "Intake Condition_Not Normal    bool\n",
       "Female                         bool\n",
       "Young                          bool\n",
       "dtype: object"
      ]
     },
     "execution_count": 65,
     "metadata": {},
     "output_type": "execute_result"
    }
   ],
   "source": [
    "# Needs to match these dtypes too\n",
    "X_test.dtypes"
   ]
  },
  {
   "cell_type": "code",
   "execution_count": 66,
   "metadata": {
    "ExecuteTime": {
     "end_time": "2022-09-20T20:22:30.288002Z",
     "start_time": "2022-09-20T20:22:30.258504Z"
    }
   },
   "outputs": [
    {
     "data": {
      "text/plain": [
       "array([1])"
      ]
     },
     "execution_count": 66,
     "metadata": {},
     "output_type": "execute_result"
    }
   ],
   "source": [
    "# Example predictions on just one \n",
    "loaded_model.predict(X_test[:1])"
   ]
  },
  {
   "cell_type": "code",
   "execution_count": 67,
   "metadata": {
    "ExecuteTime": {
     "end_time": "2022-09-20T20:22:30.799504Z",
     "start_time": "2022-09-20T20:22:30.785503Z"
    }
   },
   "outputs": [
    {
     "data": {
      "text/plain": [
       "array([[0.40584171, 0.59415829]])"
      ]
     },
     "execution_count": 67,
     "metadata": {},
     "output_type": "execute_result"
    }
   ],
   "source": [
    "loaded_model.predict_proba(X_test[:1])"
   ]
  },
  {
   "cell_type": "code",
   "execution_count": 68,
   "metadata": {
    "ExecuteTime": {
     "end_time": "2022-09-20T20:22:31.326504Z",
     "start_time": "2022-09-20T20:22:31.312504Z"
    }
   },
   "outputs": [],
   "source": [
    "# Example row of new inputs\n",
    "example_row = [True, False, False, True, False, False, True]"
   ]
  },
  {
   "cell_type": "code",
   "execution_count": 69,
   "metadata": {
    "ExecuteTime": {
     "end_time": "2022-09-20T20:22:31.838003Z",
     "start_time": "2022-09-20T20:22:31.824004Z"
    }
   },
   "outputs": [
    {
     "data": {
      "text/html": [
       "<div>\n",
       "<style scoped>\n",
       "    .dataframe tbody tr th:only-of-type {\n",
       "        vertical-align: middle;\n",
       "    }\n",
       "\n",
       "    .dataframe tbody tr th {\n",
       "        vertical-align: top;\n",
       "    }\n",
       "\n",
       "    .dataframe thead th {\n",
       "        text-align: right;\n",
       "    }\n",
       "</style>\n",
       "<table border=\"1\" class=\"dataframe\">\n",
       "  <thead>\n",
       "    <tr style=\"text-align: right;\">\n",
       "      <th></th>\n",
       "      <th>Color_black</th>\n",
       "      <th>Fixed</th>\n",
       "      <th>Type_Cat</th>\n",
       "      <th>Type_Dog</th>\n",
       "      <th>Intake Condition_Not Normal</th>\n",
       "      <th>Female</th>\n",
       "      <th>Young</th>\n",
       "    </tr>\n",
       "  </thead>\n",
       "  <tbody>\n",
       "    <tr>\n",
       "      <th>0</th>\n",
       "      <td>True</td>\n",
       "      <td>False</td>\n",
       "      <td>False</td>\n",
       "      <td>True</td>\n",
       "      <td>False</td>\n",
       "      <td>False</td>\n",
       "      <td>True</td>\n",
       "    </tr>\n",
       "  </tbody>\n",
       "</table>\n",
       "</div>"
      ],
      "text/plain": [
       "   Color_black  Fixed  Type_Cat  Type_Dog  Intake Condition_Not Normal  \\\n",
       "0         True  False     False      True                        False   \n",
       "\n",
       "   Female  Young  \n",
       "0   False   True  "
      ]
     },
     "execution_count": 69,
     "metadata": {},
     "output_type": "execute_result"
    }
   ],
   "source": [
    "# Turning that into a dataframe\n",
    "new_test_example = pd.DataFrame(dict(zip(used_cols, example_row)), index=[0])\n",
    "new_test_example"
   ]
  },
  {
   "cell_type": "code",
   "execution_count": 70,
   "metadata": {
    "ExecuteTime": {
     "end_time": "2022-09-20T20:22:32.380504Z",
     "start_time": "2022-09-20T20:22:32.367503Z"
    }
   },
   "outputs": [
    {
     "data": {
      "text/plain": [
       "array([1])"
      ]
     },
     "execution_count": 70,
     "metadata": {},
     "output_type": "execute_result"
    }
   ],
   "source": [
    "# Proving we can use our model to predict on that!\n",
    "loaded_model.predict(new_test_example)"
   ]
  },
  {
   "cell_type": "code",
   "execution_count": null,
   "metadata": {},
   "outputs": [],
   "source": []
  }
 ],
 "metadata": {
  "kernelspec": {
   "display_name": "streamlit",
   "language": "python",
   "name": "streamlit"
  },
  "language_info": {
   "codemirror_mode": {
    "name": "ipython",
    "version": 3
   },
   "file_extension": ".py",
   "mimetype": "text/x-python",
   "name": "python",
   "nbconvert_exporter": "python",
   "pygments_lexer": "ipython3",
   "version": "3.9.9"
  },
  "toc": {
   "base_numbering": 1,
   "nav_menu": {},
   "number_sections": true,
   "sideBar": true,
   "skip_h1_title": false,
   "title_cell": "Table of Contents",
   "title_sidebar": "Contents",
   "toc_cell": false,
   "toc_position": {},
   "toc_section_display": true,
   "toc_window_display": false
  },
  "varInspector": {
   "cols": {
    "lenName": 16,
    "lenType": 16,
    "lenVar": 40
   },
   "kernels_config": {
    "python": {
     "delete_cmd_postfix": "",
     "delete_cmd_prefix": "del ",
     "library": "var_list.py",
     "varRefreshCmd": "print(var_dic_list())"
    },
    "r": {
     "delete_cmd_postfix": ") ",
     "delete_cmd_prefix": "rm(",
     "library": "var_list.r",
     "varRefreshCmd": "cat(var_dic_list()) "
    }
   },
   "types_to_exclude": [
    "module",
    "function",
    "builtin_function_or_method",
    "instance",
    "_Feature"
   ],
   "window_display": false
  }
 },
 "nbformat": 4,
 "nbformat_minor": 4
}
